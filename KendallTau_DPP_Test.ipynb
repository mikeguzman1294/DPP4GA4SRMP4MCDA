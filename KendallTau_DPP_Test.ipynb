{
  "nbformat": 4,
  "nbformat_minor": 0,
  "metadata": {
    "colab": {
      "provenance": [],
      "collapsed_sections": [
        "rVJj05k5EI4Z",
        "Fb6dnC9ms300",
        "LAAVKJPMyJvr",
        "53gRZcDbyZba"
      ],
      "toc_visible": true,
      "include_colab_link": true
    },
    "kernelspec": {
      "name": "python3",
      "display_name": "Python 3"
    },
    "language_info": {
      "name": "python"
    }
  },
  "cells": [
    {
      "cell_type": "markdown",
      "metadata": {
        "id": "view-in-github",
        "colab_type": "text"
      },
      "source": [
        "<a href=\"https://colab.research.google.com/github/mikeguzman1294/DPP4GA4SRMP4MCDA/blob/kendall-tau/KendallTau_DPP_Test.ipynb\" target=\"_parent\"><img src=\"https://colab.research.google.com/assets/colab-badge.svg\" alt=\"Open In Colab\"/></a>"
      ]
    },
    {
      "cell_type": "markdown",
      "source": [
        "#Kendall Tau + DPP Sampling Experimentation"
      ],
      "metadata": {
        "id": "RZWavWqHCb20"
      }
    },
    {
      "cell_type": "markdown",
      "source": [
        "##Import Libraries"
      ],
      "metadata": {
        "id": "JQ8ne7I2CCkh"
      }
    },
    {
      "cell_type": "markdown",
      "source": [
        "Libraries already used in main script v1.0 (leanSRMP.py)"
      ],
      "metadata": {
        "id": "2GpSy5LF_j11"
      }
    },
    {
      "cell_type": "code",
      "source": [
        "# Imports taken directly from professors' main script\n",
        "\n",
        "import numpy\n",
        "import scipy.sparse as sparse\n",
        "import matplotlib.pyplot as pyplot\n",
        "import argparse\n",
        "import json\n",
        "import ast\n",
        "import sys\n",
        "import os\n",
        "import cProfile\n",
        "from random import randint"
      ],
      "metadata": {
        "id": "gjQ11clJAbkb"
      },
      "execution_count": 166,
      "outputs": []
    },
    {
      "cell_type": "markdown",
      "source": [
        "Libraries required for Kendall Tau + DPP experimentation"
      ],
      "metadata": {
        "id": "d9puFo1FC89z"
      }
    },
    {
      "cell_type": "code",
      "source": [
        "# Required libraries for Kendall Tau alternative\n",
        "\n",
        "import functools # For creaing a user-defined comparison operator\n",
        "import time # For assessing performance\n",
        "from scipy import stats # For Kendall Tau\n",
        "from sklearn.manifold import MDS # For MDS to visualize proximities\n",
        "import subprocess # For importing missing libraries real-time"
      ],
      "metadata": {
        "id": "zSHDpvJECp-m"
      },
      "execution_count": 167,
      "outputs": []
    },
    {
      "cell_type": "markdown",
      "source": [
        "Install/import pydpp by any means"
      ],
      "metadata": {
        "id": "wkgplVvxCUJY"
      }
    },
    {
      "cell_type": "code",
      "source": [
        "try:\n",
        "  from pydpp.dpp import DPP # Implements DPP\n",
        "except:\n",
        "  try:\n",
        "    subprocess.check_call([sys.executable, '-m', 'pip', 'install', 'pydpp'])\n",
        "    from pydpp.dpp import DPP\n",
        "  except:\n",
        "    subprocess.check_call(['git' ,'clone', 'https://github.com/satwik77/pyDPP.git'])\n",
        "    subprocess.check_call(['%cd', 'pyDPP'])\n",
        "    from pydpp.dpp import DPP"
      ],
      "metadata": {
        "id": "psclUGuVCP7n"
      },
      "execution_count": 168,
      "outputs": []
    },
    {
      "cell_type": "markdown",
      "source": [
        "##Function Definitions"
      ],
      "metadata": {
        "id": "X5ZKjDFwDGbE"
      }
    },
    {
      "cell_type": "markdown",
      "source": [
        "###Main Script Functions\n",
        "Required functions directly extracted from main script v1.0."
      ],
      "metadata": {
        "id": "rVJj05k5EI4Z"
      }
    },
    {
      "cell_type": "markdown",
      "source": [
        "Functions to create a random decision maker"
      ],
      "metadata": {
        "id": "pgFDW2ML_e9r"
      }
    },
    {
      "cell_type": "code",
      "execution_count": 169,
      "metadata": {
        "id": "svx4uwlEAINt"
      },
      "outputs": [],
      "source": [
        "def create_blank_decision_maker () :\n",
        "\n",
        "    ###########################################################################################################\n",
        "    \"\"\"\n",
        "        Creates a blank decision maker.\n",
        "        --\n",
        "        In:\n",
        "            * None.\n",
        "        Out:\n",
        "            * decision_maker: Created decision maker, formatted as a dictionary, with only ID set.\n",
        "    \"\"\"\n",
        "    ###########################################################################################################\n",
        "\n",
        "    # We add a unique id to the decision maker\n",
        "    global decision_maker_ids_counter\n",
        "    if \"decision_maker_ids_counter\" not in globals() :\n",
        "        decision_maker_ids_counter = 0\n",
        "    else :\n",
        "        decision_maker_ids_counter += 1\n",
        "\n",
        "    # Let's create the object\n",
        "    decision_maker = {\"weights\": None,\n",
        "                      \"profiles\": None,\n",
        "                      \"order\": None,\n",
        "                      \"id\": decision_maker_ids_counter}\n",
        "    \n",
        "    # Done\n",
        "    return decision_maker"
      ]
    },
    {
      "cell_type": "code",
      "source": [
        "def correct_decision_maker (decision_maker) :\n",
        "\n",
        "    ###########################################################################################################\n",
        "    \"\"\"\n",
        "        Corrects a decision maker.\n",
        "        --\n",
        "        In:\n",
        "            * decision_maker: Decision maker to correct.\n",
        "        Out:\n",
        "            * None.\n",
        "    \"\"\"\n",
        "    ###########################################################################################################\n",
        "\n",
        "    # Profiles in [0, 1] and sorted\n",
        "    decision_maker[\"profiles\"][decision_maker[\"profiles\"] < 0.0] = 0.0\n",
        "    decision_maker[\"profiles\"][decision_maker[\"profiles\"] > 1.0] = 1.0\n",
        "    decision_maker[\"profiles\"] = -numpy.sort(-decision_maker[\"profiles\"], axis=0)\n",
        "    \n",
        "    # Weights in ]0, 1] and with 1-sum\n",
        "    nb_criteria = decision_maker[\"profiles\"].shape[1]\n",
        "    decision_maker[\"weights\"][decision_maker[\"weights\"] < 0.0] = 1.0 / nb_criteria\n",
        "    decision_maker[\"weights\"][decision_maker[\"weights\"] > 1.0] = 1.0\n",
        "    decision_maker[\"weights\"] /= numpy.sum(decision_maker[\"weights\"])"
      ],
      "metadata": {
        "id": "l-O1S_Fa_dSa"
      },
      "execution_count": 170,
      "outputs": []
    },
    {
      "cell_type": "code",
      "source": [
        "def create_random_decision_maker (nb_criteria, nb_profiles) :\n",
        "\n",
        "    ###########################################################################################################\n",
        "    \"\"\"\n",
        "        Creates a random decision maker.\n",
        "        --\n",
        "        In:\n",
        "            * nb_criteria: Number of criteria.\n",
        "            * nb_profiles: Number of profiles to generate.\n",
        "        Out:\n",
        "            * decision_maker: Randomly created decision maker, formatted as a dictionary.\n",
        "    \"\"\"\n",
        "    ###########################################################################################################\n",
        "\n",
        "    # Random weights and profiles\n",
        "    decision_maker = create_blank_decision_maker()\n",
        "    decision_maker[\"weights\"] = numpy.random.rand(nb_criteria)\n",
        "    decision_maker[\"profiles\"] = numpy.random.uniform(0.0, 1.0, (nb_profiles, nb_criteria))\n",
        "    correct_decision_maker(decision_maker)\n",
        "    \n",
        "    # We choose an order for the profiles\n",
        "    order = numpy.array(range(nb_profiles))\n",
        "    numpy.random.shuffle(order)\n",
        "    decision_maker[\"order\"] = order\n",
        "\n",
        "    # Done\n",
        "    return decision_maker"
      ],
      "metadata": {
        "id": "u56I0IHmAet8"
      },
      "execution_count": 171,
      "outputs": []
    },
    {
      "cell_type": "markdown",
      "source": [
        "Functions for plotting a decision maker"
      ],
      "metadata": {
        "id": "EN2UH-51_p9T"
      }
    },
    {
      "cell_type": "code",
      "source": [
        "def create_directory_for (file_name) :\n",
        "\n",
        "    ###########################################################################################################\n",
        "    \"\"\"\n",
        "        Creates the directory for the given file name if it does not exist.\n",
        "        --\n",
        "        In:\n",
        "            * file_name: Directory to create, or file for which we want to create a directory.\n",
        "        Out:\n",
        "            * None.\n",
        "    \"\"\"\n",
        "    ###########################################################################################################\n",
        "\n",
        "    # Creates the corresponding directory\n",
        "    dir_name = os.path.dirname(file_name)\n",
        "    os.makedirs(dir_name, exist_ok=True)"
      ],
      "metadata": {
        "id": "kLGWO0dhlJHz"
      },
      "execution_count": 172,
      "outputs": []
    },
    {
      "cell_type": "code",
      "source": [
        "def plot_decision_maker (decision_maker, alternatives=[], title=\"\", file_name=None) :\n",
        "\n",
        "    ###########################################################################################################\n",
        "    \"\"\"\n",
        "        Plots a decision maker.\n",
        "        --\n",
        "        In:\n",
        "            * decision_maker: Decision maker to plot.\n",
        "            * alternatives: List of alternatives to plot with the decision maker.\n",
        "            * title: Complementary information to plot in the title.\n",
        "            * file_name: Where to save the results.\n",
        "        Out:\n",
        "            * None.\n",
        "    \"\"\"\n",
        "    ###########################################################################################################\n",
        "\n",
        "    # Vertical bars\n",
        "    figure = pyplot.figure(figsize=(20, 10))\n",
        "    nb_criteria = decision_maker[\"profiles\"].shape[1]\n",
        "    for i in range(nb_criteria) :\n",
        "        pyplot.plot([i, i], [0, 1], \"k\")\n",
        "\n",
        "    # Profiles\n",
        "    nb_profiles = decision_maker[\"profiles\"].shape[0]\n",
        "    for i in range(nb_profiles) :\n",
        "        plotted = pyplot.plot(range(nb_criteria), decision_maker[\"profiles\"][i], \":*\")\n",
        "        pyplot.text(-0.02 * nb_criteria, decision_maker[\"profiles\"][i][0], \"p\" + str(i), color=plotted[-1].get_color())\n",
        "        pyplot.text(nb_criteria - 1 + 0.01 * nb_criteria, decision_maker[\"profiles\"][i][-1], \"p\" + str(i), color=plotted[-1].get_color())\n",
        "    \n",
        "    # Alternatives\n",
        "    for alternative in alternatives :\n",
        "        plotted = pyplot.plot(range(nb_criteria), alternative[\"profile\"], \"-*\", label=alternative[\"id\"])\n",
        "        pyplot.text(-0.02 * nb_criteria, alternative[\"profile\"][0], \"a\" + str(alternative[\"id\"]), color=plotted[-1].get_color())\n",
        "        pyplot.text(nb_criteria - 1 + 0.01 * nb_criteria, alternative[\"profile\"][-1], \"a\" + str(alternative[\"id\"]), color=plotted[-1].get_color())\n",
        "    \n",
        "    # Plot decorations\n",
        "    pyplot.xticks(range(nb_criteria), [\"w\" + str(i) + \" =\\n\" + str(decision_maker[\"weights\"][i]) for i in range(nb_criteria)], rotation=45)\n",
        "    pyplot.yticks([0, 1])\n",
        "    figure.gca().set_frame_on(False)\n",
        "    pyplot.tight_layout()\n",
        "    pyplot.title(\"dm\" + str(decision_maker[\"id\"]) + \"\\n\" + \" -> \".join(\"p\" + str(o) for o in decision_maker[\"order\"]) + (\"\\n\" + title if title != \"\" else \"\"))\n",
        "    pyplot.show()\n",
        "    \n",
        "    # Save\n",
        "    if file_name is not None :\n",
        "        create_directory_for(file_name)\n",
        "        figure.savefig(file_name, bbox_inches=\"tight\")"
      ],
      "metadata": {
        "id": "GNpCtqmboE_5"
      },
      "execution_count": 173,
      "outputs": []
    },
    {
      "cell_type": "markdown",
      "source": [
        "Function to generate a population"
      ],
      "metadata": {
        "id": "0SZ8UMSl_ubL"
      }
    },
    {
      "cell_type": "code",
      "source": [
        "def generate_initial_population (population_size, nb_profiles, nb_criteria) :\n",
        "\n",
        "    ###########################################################################################################\n",
        "    \"\"\"\n",
        "        Generates a population of initial solution.\n",
        "        --\n",
        "        In:\n",
        "            * population_size: Number of random solutions to produce.\n",
        "            * nb_profiles: Number of profiles to give to random solutions.\n",
        "            * expected_results: Provided comparisons, along with their preference relation.\n",
        "        Out:\n",
        "            * population: List of created decision makers, along with their fitnesses.\n",
        "    \"\"\"\n",
        "    ###########################################################################################################\n",
        "\n",
        "    # We generate random solutions independently\n",
        "    #nb_criteria = len(expected_results[0][0][\"profile\"])\n",
        "    population = [create_random_decision_maker(nb_criteria, nb_profiles) for i in range(population_size)]\n",
        "    \n",
        "    # We sort them in decreasing fitness\n",
        "    #population = [(compute_fitness(solution, expected_results), solution) for solution in population]\n",
        "    population = [(numpy.random.uniform(0.0, 1.0), solution) for solution in population]\n",
        "    population = sorted(population, key=lambda obj : -obj[0])\n",
        "    \n",
        "    # Done\n",
        "    return population"
      ],
      "metadata": {
        "id": "YxRN55pzpTO1"
      },
      "execution_count": 174,
      "outputs": []
    },
    {
      "cell_type": "markdown",
      "source": [
        "Function to create a random alternative"
      ],
      "metadata": {
        "id": "7oUvaVCPGEX0"
      }
    },
    {
      "cell_type": "code",
      "source": [
        "def create_random_alternative (nb_criteria) :\n",
        "\n",
        "    ###########################################################################################################\n",
        "    \"\"\"\n",
        "        Creates a random alternative.\n",
        "        --\n",
        "        In:\n",
        "            * nb_criteria: Number of criteria.\n",
        "        Out:\n",
        "            * alternative: Created alternative, formatted as a dictionary.\n",
        "    \"\"\"\n",
        "    ###########################################################################################################\n",
        "\n",
        "    # An alternative is a profile\n",
        "    profile = numpy.random.uniform(0.0, 1.0, nb_criteria)\n",
        "\n",
        "    # We add a unique id to the alternative\n",
        "    global alternative_ids_counter\n",
        "    if \"alternative_ids_counter\" not in globals() :\n",
        "        alternative_ids_counter = 0\n",
        "    else :\n",
        "        alternative_ids_counter += 1\n",
        "\n",
        "    # Let's create the alternative\n",
        "    alternative = {\"profile\": profile,\n",
        "                   \"id\": alternative_ids_counter}\n",
        "\n",
        "    # Done\n",
        "    return alternative"
      ],
      "metadata": {
        "id": "Vt9DjcKEcDbn"
      },
      "execution_count": 175,
      "outputs": []
    },
    {
      "cell_type": "markdown",
      "source": [
        "Functions used to compute preferences between alternatives for a given decision maker"
      ],
      "metadata": {
        "id": "6SSRlC-6G89M"
      }
    },
    {
      "cell_type": "code",
      "source": [
        "def compute_concordance (decision_maker, discriminating_profile, alternative) :\n",
        "\n",
        "    ###########################################################################################################\n",
        "    \"\"\"\n",
        "        Returns the concordance of an alternative with respect to a reference profile.\n",
        "        --\n",
        "        In:\n",
        "            * decision_maker: Reference decision maker used to compute concordance of the alternative.\n",
        "            * discriminating_profile: Number of the profile to use in the decision maker's profiles.\n",
        "            * alternative: Alternative for which we want to compute concordance.\n",
        "        Out:\n",
        "            * result: Concordance for the alternative.\n",
        "    \"\"\"\n",
        "    ###########################################################################################################\n",
        "\n",
        "    # Sum of weights for all criteria above discriminating profile\n",
        "    result = numpy.dot(alternative[\"profile\"] >= decision_maker[\"profiles\"][discriminating_profile], decision_maker[\"weights\"].transpose())\n",
        "    \n",
        "    # Done\n",
        "    return result"
      ],
      "metadata": {
        "id": "XDkffPYQb1Sv"
      },
      "execution_count": 176,
      "outputs": []
    },
    {
      "cell_type": "code",
      "source": [
        "def check_preference (decision_maker, alternative_1, alternative_2) :\n",
        "\n",
        "    ###########################################################################################################\n",
        "    \"\"\"\n",
        "        Check which is preferred between two alternatives according to given decision maker.\n",
        "        --\n",
        "        In:\n",
        "            * decision_maker: Reference decision maker used to compare alternatives.\n",
        "            * alternative_1: First alternative to compare.\n",
        "            * alternative_2: Second alternative to compare.\n",
        "        Out:\n",
        "            * preferred: Alternative in {alternative_1, alternative_2} which is preferred, or None if there is no preference.\n",
        "            * discriminating_profile: Profile used in the decision maker to determine preference, or None if there is no preference.\n",
        "    \"\"\"\n",
        "    ###########################################################################################################\n",
        "\n",
        "    # Default value if no alternative is preferred to the other\n",
        "    preferred, discriminating_profile = None, None\n",
        "    \n",
        "    # We check preferred profiles in the given order\n",
        "    for i in decision_maker[\"order\"] :\n",
        "        alternative_1_concordance = compute_concordance(decision_maker, i, alternative_1)\n",
        "        alternative_2_concordance = compute_concordance(decision_maker, i, alternative_2)\n",
        "        if alternative_1_concordance > alternative_2_concordance :\n",
        "            return alternative_1, i\n",
        "        elif alternative_1_concordance < alternative_2_concordance :\n",
        "            return alternative_2, i\n",
        "    \n",
        "    # Done\n",
        "    return preferred, discriminating_profile"
      ],
      "metadata": {
        "id": "xS9CYbgzw3ch"
      },
      "execution_count": 177,
      "outputs": []
    },
    {
      "cell_type": "code",
      "source": [
        "def compute_all_preferences (decision_maker, alternatives) :\n",
        "\n",
        "    ###########################################################################################################\n",
        "    \"\"\"\n",
        "        Checks all preference relations among alternatives according to given decision maker.\n",
        "        --\n",
        "        In:\n",
        "            * decision_maker: Reference decision maker used to compare alternatives.\n",
        "            * alternatives: List of alternatives to compare.\n",
        "        Out:\n",
        "            * discriminating_profiles: Matrix (sorted in increasing IDs) of profiles used in the decision maker to determine dominance, with -1 entries if there is no dominance.\n",
        "            * preferences: Matrix (sorted in increasing IDs) of dominances, where result_dominances[i][j] == 1 if alternative i dominates alternative j, -1 if there is no dominance, and 0 otherwise.\n",
        "    \"\"\"\n",
        "    ###########################################################################################################\n",
        "    \n",
        "    # Alternatives are sorted in increasing ID for the matrix\n",
        "    sorted_alternatives = sorted(alternatives, key=lambda obj : obj[\"id\"])\n",
        "    nb_alternatives = len(sorted_alternatives)\n",
        "    \n",
        "    # We return a matrix indicating which profile is used for determining preference, and another indicating which alternative is preferred\n",
        "    discriminating_profiles = numpy.zeros((nb_alternatives, nb_alternatives)) - 1\n",
        "    preferences = numpy.zeros((nb_alternatives, nb_alternatives)) - 1\n",
        "    \n",
        "    # We check all pairs\n",
        "    for alternative_1 in range(nb_alternatives) :\n",
        "        for alternative_2 in range(alternative_1 + 1, nb_alternatives) :\n",
        "            preferred, discriminating_profile = check_preference(decision_maker, sorted_alternatives[alternative_1], sorted_alternatives[alternative_2])\n",
        "            if preferred is not None :\n",
        "                discriminating_profiles[alternative_1, alternative_2] = discriminating_profile\n",
        "                discriminating_profiles[alternative_2, alternative_1] = discriminating_profiles[alternative_1, alternative_2]\n",
        "                preferences[alternative_1, alternative_2] = int(preferred[\"id\"] == alternatives[alternative_1][\"id\"])\n",
        "                preferences[alternative_2, alternative_1] = 1 - preferences[alternative_1, alternative_2]\n",
        "    \n",
        "    # Done\n",
        "    return discriminating_profiles, preferences"
      ],
      "metadata": {
        "id": "Gyj6gHEjxDGU"
      },
      "execution_count": 178,
      "outputs": []
    },
    {
      "cell_type": "markdown",
      "source": [
        "###DPP + Kendall Tau Functions\n",
        "Functions defined to implement DPP + Kendall Tau sampling in the genetic algorithm."
      ],
      "metadata": {
        "id": "1HvQVVf7HG31"
      }
    },
    {
      "cell_type": "markdown",
      "source": [
        "Ranks all alternatives according for a given decision maker."
      ],
      "metadata": {
        "id": "dJovHb__x0Z7"
      }
    },
    {
      "cell_type": "code",
      "source": [
        "def rank_decision_maker_alternatives (decision_maker, alternatives) :\n",
        "\n",
        "    ###########################################################################################################\n",
        "    \"\"\"\n",
        "        Ranks all alternatives according to given decision maker.\n",
        "        --\n",
        "        In:\n",
        "            * decision_maker: Reference decision maker used to rank alternatives.\n",
        "            * alternatives: List of alternatives to rank.\n",
        "        Out:\n",
        "            * ranking_vector: Vector containing the alternatives ranking for a given position maker where the first element is the best ranked alternative.\n",
        "    \"\"\"\n",
        "    ###########################################################################################################\n",
        "\n",
        "    # Inner user-defined comparison operator\n",
        "    def compare(alternative_1, alternative_2):\n",
        "\n",
        "      # No preference among alternatives\n",
        "      if ( check_preference(decision_maker, alternative_1, alternative_2)[0] is None ):\n",
        "        return 0\n",
        "      # Alternative 1 > alternative 2\n",
        "      elif ( alternative_1['id'] == check_preference(decision_maker, alternative_1, alternative_2)[0]['id'] ):\n",
        "        return 1\n",
        "      # Alternative 2 > alternative 1\n",
        "      else:\n",
        "        return -1\n",
        "\n",
        "    # Sort (O(nlogn)) with user-defined comparison operator\n",
        "    ranked_alternatives = sorted(alternatives, key=functools.cmp_to_key(compare))\n",
        "    \n",
        "    # Extract vector with only ranked alternatives\n",
        "    ranking_vector = [ alternative['id'] for alternative in ranked_alternatives ]\n",
        "\n",
        "    #Done\n",
        "    return ranking_vector"
      ],
      "metadata": {
        "id": "DvjdQb3RCH9m"
      },
      "execution_count": 179,
      "outputs": []
    },
    {
      "cell_type": "markdown",
      "source": [
        "Computes the ranking of all the alternatives for every solution in the population."
      ],
      "metadata": {
        "id": "rbv-xRAyx59H"
      }
    },
    {
      "cell_type": "code",
      "source": [
        "def compute_population_rankings (population, alternatives) :\n",
        "\n",
        "    ###########################################################################################################\n",
        "    \"\"\"\n",
        "        Computes the ranking of all the alternatives for every solution in the population.\n",
        "        --\n",
        "        In:\n",
        "            * population: Population of solutions of a given generation along with their fitnesses.\n",
        "            * alternatives: List of alternatives to rank.\n",
        "        Out:\n",
        "            * population_rankings: List of ranked alternatives vectors for all solutions.\n",
        "    \"\"\"\n",
        "    ###########################################################################################################\n",
        "    \n",
        "    # Create empty list of rankings\n",
        "    population_rankings = []\n",
        "\n",
        "    # Append the ranking vector of each decision maker in population\n",
        "    for solution in population:    \n",
        "      population_rankings.append( rank_decision_maker_alternatives(solution[1], alternatives) )\n",
        "\n",
        "    # Done\n",
        "    return population_rankings"
      ],
      "metadata": {
        "id": "UYAPn3zkIkUQ"
      },
      "execution_count": 180,
      "outputs": []
    },
    {
      "cell_type": "markdown",
      "source": [
        "Constructs a similarity matrix for the population where the similarity metric is Kendall Tau correspondance between rankings."
      ],
      "metadata": {
        "id": "mxIj0PI_x8tJ"
      }
    },
    {
      "cell_type": "code",
      "source": [
        "def compute_similarity_matrix (rankings, metric) :\n",
        "\n",
        "    ###########################################################################################################\n",
        "    \"\"\"\n",
        "        Constructs a similarity matrix for the population given a similarity metric between rankings.\n",
        "        --\n",
        "        In:\n",
        "            * rankings: List of ranked alternatives vectors for all solutions.\n",
        "            * metric: Similarity metric used to compare alternative rankings.\n",
        "        Out:\n",
        "            * similarity_matrix: Matrix containing the pairwise similarity of all solutions' rankings.\n",
        "    \"\"\"\n",
        "    ###########################################################################################################\n",
        "\n",
        "    # Compute similarity matrix of all decision makers' Kendall Tau's pairwise evaluation\n",
        "    if metric == \"kendall-tau\":\n",
        "        similarity_matrix = numpy.array( [ [ ( (stats.kendalltau(p1, p2)[0] + 1) / 2  ) for p2 in rankings ] for p1 in rankings ] )\n",
        "        print(\"Using Kendall Tau\")\n",
        "\n",
        "    # Compute similarity matrix of all decision makers' Spearman Rho's pairwise evaluation\n",
        "    elif metric == \"spearman-rho\":\n",
        "        similarity_matrix = numpy.array( [ [ ( (stats.spearmanr(p1, p2)[0] + 1) / 2  ) for p2 in rankings ] for p1 in rankings ] )\n",
        "        print(\"Using Spearman Rho\")\n",
        "\n",
        "    # Weird choice\n",
        "    else :\n",
        "        raise Exception(\"Unimplemented metric '\" + metric + \"' for function 'compute_similarity_matrix'\")\n",
        "\n",
        "    #Done\n",
        "    return similarity_matrix"
      ],
      "metadata": {
        "id": "es2nf3FtNQge"
      },
      "execution_count": 181,
      "outputs": []
    },
    {
      "cell_type": "markdown",
      "source": [
        "This one is not really a new function but an **update** to a function that previously only implemented a roulette parent selection strategy."
      ],
      "metadata": {
        "id": "GyuH1fKHqOyH"
      }
    },
    {
      "cell_type": "code",
      "source": [
        "def select_solutions (population, alternatives, nb_solutions=None, strategy=None, metric=None) :\n",
        "\n",
        "    ###########################################################################################################\n",
        "    \"\"\"\n",
        "        Selects solutions to mix from the population.\n",
        "        --\n",
        "        In:\n",
        "            * population: Population of solutions from where to pick solutions, along with their fitnesses.\n",
        "            * alternatives: List of alternatives to compare.\n",
        "            * nb_solutions: Number of solutions to return.\n",
        "            * strategy: Strategy to use to select solutions.\n",
        "            * metric: Similarity metric used to compare alternative rankings.\n",
        "        Out:\n",
        "            * selected_solutions: Picked solutions.\n",
        "    \"\"\"\n",
        "    ###########################################################################################################\n",
        "\n",
        "    # Retrieve command line default arguments\n",
        "    #nb_solutions = get_arg_value(\"select_solutions__nb_solutions\", nb_solutions)\n",
        "    #strategy = get_arg_value(\"select_solutions__strategy\", strategy)\n",
        "    #metric = get_arg_value(\"select_solutions__similarity_metric\", metric)\n",
        "\n",
        "    # Probabilities are based on fitness\n",
        "    if strategy == \"roulette\" :\n",
        "        probabilities = numpy.array([solution[0] for solution in population], dtype=float)\n",
        "        probabilities /= numpy.sum(probabilities)\n",
        "        selected_indices = numpy.random.choice(range(len(population)), nb_solutions, p=probabilities, replace=False)\n",
        "        selected_solutions = [population[i] for i in selected_indices]\n",
        "\n",
        "    # Use a metric-based similarity matrix of all decision makers as a DPP-sampling kernel to encourage diversity\n",
        "    elif strategy == \"DPP\" :\n",
        "        rankings = compute_population_rankings(population, alternatives)\n",
        "        dpp = DPP(rankings)\n",
        "        dpp.compute_kernel(kernel_func= lambda x : compute_similarity_matrix(x, metric))\n",
        "        selected_indices = dpp.sample_k(nb_solutions)\n",
        "        selected_solutions = [population[i] for i in selected_indices]\n",
        "\n",
        "    # Weird choice\n",
        "    else :\n",
        "        raise Exception(\"Unimplemented strategy '\" + strategy + \"' for function 'select_solutions'\")\n",
        "    \n",
        "    # Done\n",
        "    return selected_solutions"
      ],
      "metadata": {
        "id": "0E7H2RH5Dm1l"
      },
      "execution_count": 182,
      "outputs": []
    },
    {
      "cell_type": "markdown",
      "source": [
        "## Test Section"
      ],
      "metadata": {
        "id": "rS47Zkn8_4no"
      }
    },
    {
      "cell_type": "markdown",
      "source": [
        "###Global Test Parameters"
      ],
      "metadata": {
        "id": "0DvF_L5Ism2c"
      }
    },
    {
      "cell_type": "code",
      "source": [
        "# Global Hyper Parameters to test DPP + Kendall Tau functions on a decision maker individual/population in the test section\n",
        "\n",
        "num_criteria = 5  # Number of criteria per decision maker\n",
        "num_profiles = 3  # Number of profiles per decision maker\n",
        "num_alternatives = 50#10  # Number of alternatives to test against individuals/population\n",
        "population_size = 100 # Number of decision makers in the population\n",
        "num_parents = 8 # Number of solutions to select as parents\n",
        "strategy = \"DPP\" # Parent selection strategy\n",
        "metric = \"kendall-tau\" # Similarity metric strategy for computing DPP kernel\n",
        "#metric = \"spearman-rho\" # Similarity metric strategy for computing DPP kernel"
      ],
      "metadata": {
        "id": "TATn5vro_97c"
      },
      "execution_count": 183,
      "outputs": []
    },
    {
      "cell_type": "markdown",
      "source": [
        "###Understand/Visualize Genotype"
      ],
      "metadata": {
        "id": "Fb6dnC9ms300"
      }
    },
    {
      "cell_type": "code",
      "source": [
        "# GENOTYPE\n",
        "\n",
        "# Code cell to create a single random decision maker\n",
        "\n",
        "decision_maker = create_random_decision_maker(num_criteria, num_profiles)\n",
        "decision_maker"
      ],
      "metadata": {
        "colab": {
          "base_uri": "https://localhost:8080/"
        },
        "id": "JrxfEcZHcRDh",
        "outputId": "38ab96bf-f096-4414-e33b-4c4a60bb485c"
      },
      "execution_count": 184,
      "outputs": [
        {
          "output_type": "execute_result",
          "data": {
            "text/plain": [
              "{'weights': array([0.15221742, 0.16028696, 0.27789632, 0.1857866 , 0.2238127 ]),\n",
              " 'profiles': array([[0.54286562, 0.87981483, 0.98627898, 0.75914856, 0.88039693],\n",
              "        [0.2936255 , 0.39943654, 0.38319156, 0.6927669 , 0.84452989],\n",
              "        [0.10635958, 0.07433853, 0.08581346, 0.01313199, 0.38712157]]),\n",
              " 'order': array([1, 2, 0]),\n",
              " 'id': 303}"
            ]
          },
          "metadata": {},
          "execution_count": 184
        }
      ]
    },
    {
      "cell_type": "code",
      "source": [
        "# PHENOTYPE\n",
        "\n",
        "# Plot a decision maker individual\n",
        "\n",
        "plot_decision_maker(decision_maker)"
      ],
      "metadata": {
        "colab": {
          "base_uri": "https://localhost:8080/",
          "height": 0
        },
        "id": "dnz9SYk9HHpc",
        "outputId": "37fd5147-6684-46e4-9277-9b58533d5fbf"
      },
      "execution_count": 185,
      "outputs": [
        {
          "output_type": "display_data",
          "data": {
            "text/plain": [
              "<Figure size 1440x720 with 1 Axes>"
            ],
            "image/png": "[encoded data removed]"
          },
          "metadata": {
            "needs_background": "light"
          }
        }
      ]
    },
    {
      "cell_type": "markdown",
      "source": [
        "###Understand concordance"
      ],
      "metadata": {
        "id": "LAAVKJPMyJvr"
      }
    },
    {
      "cell_type": "code",
      "source": [
        "# Code cell to create a single random alternative\n",
        "\n",
        "alternative = create_random_alternative(num_criteria)\n",
        "alternative"
      ],
      "metadata": {
        "colab": {
          "base_uri": "https://localhost:8080/"
        },
        "id": "9xaRzdZJAnEW",
        "outputId": "95ed1e54-eb90-4f75-b194-ca839a9356a5"
      },
      "execution_count": 186,
      "outputs": [
        {
          "output_type": "execute_result",
          "data": {
            "text/plain": [
              "{'profile': array([0.13584445, 0.09732535, 0.5457113 , 0.81534759, 0.6838319 ]),\n",
              " 'id': 153}"
            ]
          },
          "metadata": {},
          "execution_count": 186
        }
      ]
    },
    {
      "cell_type": "code",
      "source": [
        "# Choose a random discriminating profile index\n",
        "\n",
        "discriminating_profile = randint(0, (num_profiles -1) )\n",
        "print(f'Discriminating profile index: {discriminating_profile}')\n",
        "print(f'Discriminating profile of decision maker individual: {decision_maker[\"profiles\"][discriminating_profile]}')\n",
        "print(f'Weights of decision maker individual: {decision_maker[\"weights\"]}')\n",
        "\n",
        "# Compute of a random alternative against the decision maker individual given a random discriminating profile\n",
        "\n",
        "concordance = compute_concordance(decision_maker, discriminating_profile, alternative)\n",
        "print(f'Concordance value: {concordance}')"
      ],
      "metadata": {
        "colab": {
          "base_uri": "https://localhost:8080/"
        },
        "id": "sXdHuplJc0To",
        "outputId": "cee94d3c-ba2a-4155-a2f9-d9a5b0948ca5"
      },
      "execution_count": 187,
      "outputs": [
        {
          "output_type": "stream",
          "name": "stdout",
          "text": [
            "Discriminating profile index: 2\n",
            "Discriminating profile of decision maker individual: [0.10635958 0.07433853 0.08581346 0.01313199 0.38712157]\n",
            "Weights of decision maker individual: [0.15221742 0.16028696 0.27789632 0.1857866  0.2238127 ]\n",
            "Concordance value: 1.0\n"
          ]
        }
      ]
    },
    {
      "cell_type": "markdown",
      "source": [
        "###Create population/alternatives"
      ],
      "metadata": {
        "id": "53gRZcDbyZba"
      }
    },
    {
      "cell_type": "code",
      "source": [
        "# Create a list of random alternatives\n",
        "\n",
        "alternatives = [create_random_alternative(num_criteria) for i in range(num_alternatives)]\n",
        "alternatives[0:5]"
      ],
      "metadata": {
        "id": "r3xmX8_NwRFk",
        "colab": {
          "base_uri": "https://localhost:8080/"
        },
        "outputId": "f222f763-690a-4228-9b21-cf0d037661a5"
      },
      "execution_count": 188,
      "outputs": [
        {
          "output_type": "execute_result",
          "data": {
            "text/plain": [
              "[{'profile': array([0.55097883, 0.06996531, 0.05738613, 0.68800174, 0.4642881 ]),\n",
              "  'id': 154},\n",
              " {'profile': array([0.9525862 , 0.43747342, 0.17718547, 0.14947166, 0.23593507]),\n",
              "  'id': 155},\n",
              " {'profile': array([0.67528413, 0.90298792, 0.28362635, 0.92133749, 0.50860544]),\n",
              "  'id': 156},\n",
              " {'profile': array([0.33821286, 0.29975611, 0.85490359, 0.66504275, 0.10216217]),\n",
              "  'id': 157},\n",
              " {'profile': array([0.61800436, 0.70925853, 0.34569957, 0.35768894, 0.99324123]),\n",
              "  'id': 158}]"
            ]
          },
          "metadata": {},
          "execution_count": 188
        }
      ]
    },
    {
      "cell_type": "code",
      "source": [
        "# Code cell to create a population of decision makers\n",
        "\n",
        "population = generate_initial_population(population_size, num_profiles, num_criteria)\n",
        "population[0:5]"
      ],
      "metadata": {
        "id": "wKqx2FgGvg6S",
        "colab": {
          "base_uri": "https://localhost:8080/"
        },
        "outputId": "70e34369-a32c-4ea2-d44c-01b7cf74265f"
      },
      "execution_count": 189,
      "outputs": [
        {
          "output_type": "execute_result",
          "data": {
            "text/plain": [
              "[(0.9843761753227505,\n",
              "  {'weights': array([0.27087444, 0.25958445, 0.15614827, 0.21682003, 0.09657282]),\n",
              "   'profiles': array([[0.6602975 , 0.72244287, 0.9117695 , 0.83475631, 0.91114854],\n",
              "          [0.18731483, 0.14370056, 0.25245983, 0.52940316, 0.39904522],\n",
              "          [0.05779536, 0.09207649, 0.07075875, 0.36842182, 0.35315681]]),\n",
              "   'order': array([1, 0, 2]),\n",
              "   'id': 326}),\n",
              " (0.9773571178248176,\n",
              "  {'weights': array([0.19196763, 0.20679058, 0.25382679, 0.14501189, 0.20240311]),\n",
              "   'profiles': array([[0.31408157, 0.78271016, 0.6144611 , 0.99000213, 0.53360634],\n",
              "          [0.12820698, 0.5390433 , 0.49312874, 0.98161091, 0.40617096],\n",
              "          [0.03814809, 0.09259396, 0.26466482, 0.62916149, 0.30085166]]),\n",
              "   'order': array([1, 0, 2]),\n",
              "   'id': 341}),\n",
              " (0.9743811330386271,\n",
              "  {'weights': array([0.39395073, 0.08627588, 0.31858928, 0.12720293, 0.07398118]),\n",
              "   'profiles': array([[0.78163481, 0.7951042 , 0.53915911, 0.73713511, 0.90375036],\n",
              "          [0.61646158, 0.69191147, 0.31854395, 0.72717593, 0.86787457],\n",
              "          [0.14904564, 0.20548901, 0.12073749, 0.16592861, 0.65774532]]),\n",
              "   'order': array([1, 2, 0]),\n",
              "   'id': 384}),\n",
              " (0.9702720768232802,\n",
              "  {'weights': array([0.13035689, 0.14323884, 0.31180465, 0.09248098, 0.32211864]),\n",
              "   'profiles': array([[0.95394076, 0.7728431 , 0.41758782, 0.75481909, 0.61490415],\n",
              "          [0.70229144, 0.63832762, 0.39043083, 0.3887185 , 0.51358068],\n",
              "          [0.07750265, 0.13852282, 0.058389  , 0.25625515, 0.21791495]]),\n",
              "   'order': array([0, 1, 2]),\n",
              "   'id': 318}),\n",
              " (0.9698602965326851,\n",
              "  {'weights': array([0.13556417, 0.31695206, 0.10601461, 0.11720916, 0.32426   ]),\n",
              "   'profiles': array([[0.55171727, 0.99149319, 0.91445099, 0.51880323, 0.83381696],\n",
              "          [0.17522501, 0.79960506, 0.11655725, 0.35018418, 0.62969203],\n",
              "          [0.05397222, 0.64541175, 0.08380487, 0.07221608, 0.1621548 ]]),\n",
              "   'order': array([1, 2, 0]),\n",
              "   'id': 339})]"
            ]
          },
          "metadata": {},
          "execution_count": 189
        }
      ]
    },
    {
      "cell_type": "markdown",
      "source": [
        "###Select parents function"
      ],
      "metadata": {
        "id": "TJhlkezO62jf"
      }
    },
    {
      "cell_type": "code",
      "source": [
        "# Select solutions as parents from the population and time the selecting process for benchmarking\n",
        "\n",
        "start = time.time()\n",
        "\n",
        "selected_solutions = select_solutions(population, alternatives, num_parents, strategy, metric)\n",
        "\n",
        "end = time.time()\n",
        "\n",
        "print(f'The parent selection process for a population of {population_size} individuals takes {end - start} seconds.\\n')\n",
        "\n",
        "#selected_solutions"
      ],
      "metadata": {
        "colab": {
          "base_uri": "https://localhost:8080/"
        },
        "id": "71BHWgWoERvM",
        "outputId": "a546a637-5ce1-41ef-a321-bfae2b0f4d94"
      },
      "execution_count": 190,
      "outputs": [
        {
          "output_type": "stream",
          "name": "stdout",
          "text": [
            "Using Kendall Tau\n",
            "The parent selection process for a population of 100 individuals takes 4.785273790359497 seconds.\n",
            "\n"
          ]
        }
      ]
    },
    {
      "cell_type": "markdown",
      "source": [
        "###Correlation + DPP examination"
      ],
      "metadata": {
        "id": "t_N-Rtmx-S_p"
      }
    },
    {
      "cell_type": "markdown",
      "source": [
        "####Alternatives ranking vectors"
      ],
      "metadata": {
        "id": "-d14cBfJRDQn"
      }
    },
    {
      "cell_type": "code",
      "source": [
        "# Rank all the alternatives for each decision maker in the population and save each vector\n",
        " \n",
        "rankings = compute_population_rankings(population, alternatives)\n",
        "\n",
        "# Print the first 5 rankings\n",
        "\n",
        "#rankings[0:5]"
      ],
      "metadata": {
        "id": "PnZzu4vfpAwQ"
      },
      "execution_count": 191,
      "outputs": []
    },
    {
      "cell_type": "markdown",
      "source": [
        "####Similarity Matrix"
      ],
      "metadata": {
        "id": "zrng0q50RRTQ"
      }
    },
    {
      "cell_type": "markdown",
      "source": [
        "Compute the similarity matrix given different distance metrics for testing."
      ],
      "metadata": {
        "id": "f1QQA7Jazs9x"
      }
    },
    {
      "cell_type": "markdown",
      "source": [
        "#####Kendall Tau metric"
      ],
      "metadata": {
        "id": "BN8mpHl7z6eN"
      }
    },
    {
      "cell_type": "code",
      "source": [
        "# Get the similarity matrix of all the decision makers given their ranked alternatives vectors\n",
        "# Kendall Tau version\n",
        "\n",
        "similarity_matrix = compute_similarity_matrix(rankings, \"kendall-tau\")\n",
        "similarity_matrix"
      ],
      "metadata": {
        "id": "8bhr_hyo7_Fq",
        "colab": {
          "base_uri": "https://localhost:8080/"
        },
        "outputId": "550dd4b4-e9b1-4353-c33a-71dfec7170a4"
      },
      "execution_count": 192,
      "outputs": [
        {
          "output_type": "stream",
          "name": "stdout",
          "text": [
            "Using Kendall Tau\n"
          ]
        },
        {
          "output_type": "execute_result",
          "data": {
            "text/plain": [
              "array([[1.        , 0.48653061, 0.46285714, ..., 0.49877551, 0.45959184,\n",
              "        0.58285714],\n",
              "       [0.48653061, 1.        , 0.49632653, ..., 0.53714286, 0.54530612,\n",
              "        0.51183673],\n",
              "       [0.46285714, 0.49632653, 1.        , ..., 0.43020408, 0.52489796,\n",
              "        0.48      ],\n",
              "       ...,\n",
              "       [0.49877551, 0.53714286, 0.43020408, ..., 1.        , 0.53306122,\n",
              "        0.51918367],\n",
              "       [0.45959184, 0.54530612, 0.52489796, ..., 0.53306122, 1.        ,\n",
              "        0.5322449 ],\n",
              "       [0.58285714, 0.51183673, 0.48      , ..., 0.51918367, 0.5322449 ,\n",
              "        1.        ]])"
            ]
          },
          "metadata": {},
          "execution_count": 192
        }
      ]
    },
    {
      "cell_type": "markdown",
      "source": [
        "#####Spearman Rho metric"
      ],
      "metadata": {
        "id": "dp4Ub8wdz4s7"
      }
    },
    {
      "cell_type": "code",
      "source": [
        "# Get the similarity matrix of all the decision makers given their ranked alternatives vectors\n",
        "# Spearman Rho version\n",
        "\n",
        "similarity_matrix_spearman = compute_similarity_matrix(rankings, \"spearman-rho\")\n",
        "similarity_matrix_spearman"
      ],
      "metadata": {
        "colab": {
          "base_uri": "https://localhost:8080/"
        },
        "id": "LpC9OX7WlPl5",
        "outputId": "c3751e09-8a72-45a8-a05d-2c7c463f120e"
      },
      "execution_count": 193,
      "outputs": [
        {
          "output_type": "stream",
          "name": "stdout",
          "text": [
            "Using Spearman Rho\n"
          ]
        },
        {
          "output_type": "execute_result",
          "data": {
            "text/plain": [
              "array([[1.        , 0.4947419 , 0.41911164, ..., 0.48955582, 0.44297719,\n",
              "        0.62617047],\n",
              "       [0.4947419 , 1.        , 0.49887155, ..., 0.56043217, 0.55803121,\n",
              "        0.51735894],\n",
              "       [0.41911164, 0.49887155, 1.        , ..., 0.39755102, 0.54338535,\n",
              "        0.4729892 ],\n",
              "       ...,\n",
              "       [0.48955582, 0.56043217, 0.39755102, ..., 1.        , 0.56144058,\n",
              "        0.52028812],\n",
              "       [0.44297719, 0.55803121, 0.54338535, ..., 0.56144058, 1.        ,\n",
              "        0.55740696],\n",
              "       [0.62617047, 0.51735894, 0.4729892 , ..., 0.52028812, 0.55740696,\n",
              "        1.        ]])"
            ]
          },
          "metadata": {},
          "execution_count": 193
        }
      ]
    },
    {
      "cell_type": "markdown",
      "source": [
        "####DPP Sampling"
      ],
      "metadata": {
        "id": "pjiVBGI-m0Uo"
      }
    },
    {
      "cell_type": "code",
      "source": [
        "# Create a DPP sampler instance\n",
        "\n",
        "dpp = DPP(rankings)\n",
        "\n",
        "# Use the Kendall Tau similarity matrix as kernel function\n",
        "\n",
        "dpp.compute_kernel(kernel_func= lambda x : compute_similarity_matrix(x, metric))\n",
        "\n",
        "# Verify dpp attribute 'A' is the similarity matrix\n",
        "\n",
        "dpp.A"
      ],
      "metadata": {
        "id": "x35vfSyg7kgl",
        "colab": {
          "base_uri": "https://localhost:8080/"
        },
        "outputId": "7bf7ef18-8e4d-41e3-8b73-f2b29266915b"
      },
      "execution_count": 194,
      "outputs": [
        {
          "output_type": "stream",
          "name": "stdout",
          "text": [
            "Using Kendall Tau\n"
          ]
        },
        {
          "output_type": "execute_result",
          "data": {
            "text/plain": [
              "array([[1.        , 0.48653061, 0.46285714, ..., 0.49877551, 0.45959184,\n",
              "        0.58285714],\n",
              "       [0.48653061, 1.        , 0.49632653, ..., 0.53714286, 0.54530612,\n",
              "        0.51183673],\n",
              "       [0.46285714, 0.49632653, 1.        , ..., 0.43020408, 0.52489796,\n",
              "        0.48      ],\n",
              "       ...,\n",
              "       [0.49877551, 0.53714286, 0.43020408, ..., 1.        , 0.53306122,\n",
              "        0.51918367],\n",
              "       [0.45959184, 0.54530612, 0.52489796, ..., 0.53306122, 1.        ,\n",
              "        0.5322449 ],\n",
              "       [0.58285714, 0.51183673, 0.48      , ..., 0.51918367, 0.5322449 ,\n",
              "        1.        ]])"
            ]
          },
          "metadata": {},
          "execution_count": 194
        }
      ]
    },
    {
      "cell_type": "code",
      "source": [
        "# Sample for the given parameter of parents to select (get back indices)\n",
        "\n",
        "dpp_samples = dpp.sample_k(num_parents)\n",
        "dpp_samples"
      ],
      "metadata": {
        "id": "wG4DvRddQ1hh",
        "colab": {
          "base_uri": "https://localhost:8080/"
        },
        "outputId": "b92f4b1b-1cf2-4d46-c319-e5ea81ff8cb1"
      },
      "execution_count": 195,
      "outputs": [
        {
          "output_type": "execute_result",
          "data": {
            "text/plain": [
              "array([29, 30, 40, 54, 56, 74, 78, 94])"
            ]
          },
          "metadata": {},
          "execution_count": 195
        }
      ]
    },
    {
      "cell_type": "markdown",
      "source": [
        "####MDS dimensionality reduction"
      ],
      "metadata": {
        "id": "jaP5ew9xt8I_"
      }
    },
    {
      "cell_type": "code",
      "source": [
        "# MDS requires a distance matrix as an input\n",
        "# Since our similarity matrix has only positive correlations we can turn it easily into a distance matrix\n",
        "\n",
        "distance_matrix = 1- similarity_matrix\n",
        "distance_matrix"
      ],
      "metadata": {
        "id": "u7yMdVxYkP3O",
        "colab": {
          "base_uri": "https://localhost:8080/"
        },
        "outputId": "0f1981f1-4c9b-422d-850e-b68a15334068"
      },
      "execution_count": 196,
      "outputs": [
        {
          "output_type": "execute_result",
          "data": {
            "text/plain": [
              "array([[0.        , 0.51346939, 0.53714286, ..., 0.50122449, 0.54040816,\n",
              "        0.41714286],\n",
              "       [0.51346939, 0.        , 0.50367347, ..., 0.46285714, 0.45469388,\n",
              "        0.48816327],\n",
              "       [0.53714286, 0.50367347, 0.        , ..., 0.56979592, 0.47510204,\n",
              "        0.52      ],\n",
              "       ...,\n",
              "       [0.50122449, 0.46285714, 0.56979592, ..., 0.        , 0.46693878,\n",
              "        0.48081633],\n",
              "       [0.54040816, 0.45469388, 0.47510204, ..., 0.46693878, 0.        ,\n",
              "        0.4677551 ],\n",
              "       [0.41714286, 0.48816327, 0.52      , ..., 0.48081633, 0.4677551 ,\n",
              "        0.        ]])"
            ]
          },
          "metadata": {},
          "execution_count": 196
        }
      ]
    },
    {
      "cell_type": "code",
      "source": [
        "# Create a MDS object to receive the precomputed distance matrix\n",
        "\n",
        "mds = MDS(dissimilarity='precomputed', random_state=0)\n",
        "\n",
        "# Get the MDS embeddings\n",
        "\n",
        "X_transform = mds.fit_transform(distance_matrix)\n",
        "X_transform[0:5]"
      ],
      "metadata": {
        "id": "SgPHW1QRXAlL",
        "colab": {
          "base_uri": "https://localhost:8080/"
        },
        "outputId": "67fe6ca0-1c43-47e7-e780-bb619c9430f5"
      },
      "execution_count": 197,
      "outputs": [
        {
          "output_type": "stream",
          "name": "stderr",
          "text": [
            "/usr/local/lib/python3.9/dist-packages/sklearn/manifold/_mds.py:299: FutureWarning: The default value of `normalized_stress` will change to `'auto'` in version 1.4. To suppress this warning, manually set the value of `normalized_stress`.\n",
            "  warnings.warn(\n"
          ]
        },
        {
          "output_type": "execute_result",
          "data": {
            "text/plain": [
              "array([[-0.16521759, -0.08161429],\n",
              "       [-0.31086166,  0.22548234],\n",
              "       [-0.17540909,  0.08717259],\n",
              "       [ 0.04310561, -0.26817898],\n",
              "       [ 0.12134853, -0.07107293]])"
            ]
          },
          "metadata": {},
          "execution_count": 197
        }
      ]
    },
    {
      "cell_type": "code",
      "source": [
        "# Scatter plot the decision maker distance representation in the MDS 2-dim embedding space\n",
        "\n",
        "pyplot.scatter( X_transform[:,0], X_transform[:,1] )\n",
        "pyplot.title(\"Decision Maker MDS Embedding Space\")"
      ],
      "metadata": {
        "id": "vKa2BRUEXcRN",
        "colab": {
          "base_uri": "https://localhost:8080/",
          "height": 299
        },
        "outputId": "95115ec8-62cf-441f-833d-da2778f8273e"
      },
      "execution_count": 198,
      "outputs": [
        {
          "output_type": "execute_result",
          "data": {
            "text/plain": [
              "Text(0.5, 1.0, 'Decision Maker MDS Embedding Space')"
            ]
          },
          "metadata": {},
          "execution_count": 198
        },
        {
          "output_type": "display_data",
          "data": {
            "text/plain": [
              "<Figure size 432x288 with 1 Axes>"
            ],
            "image/png": "[encoded data removed]"
          },
          "metadata": {
            "needs_background": "light"
          }
        }
      ]
    },
    {
      "cell_type": "code",
      "source": [
        "# Subset with the DPP-sampled indices \n",
        "\n",
        "X_DPP = X_transform[dpp_samples]\n",
        "X_DPP"
      ],
      "metadata": {
        "id": "ceY4vdeOYmu2",
        "colab": {
          "base_uri": "https://localhost:8080/"
        },
        "outputId": "05321789-c0d9-42d5-ae01-e06e0cbf421d"
      },
      "execution_count": 199,
      "outputs": [
        {
          "output_type": "execute_result",
          "data": {
            "text/plain": [
              "array([[ 0.3714137 ,  0.13938243],\n",
              "       [-0.17266394,  0.17124572],\n",
              "       [-0.06451333,  0.26342678],\n",
              "       [-0.1788001 , -0.31195201],\n",
              "       [-0.02918682,  0.32527764],\n",
              "       [ 0.33569635, -0.23965123],\n",
              "       [-0.36504992, -0.1096868 ],\n",
              "       [ 0.2357231 ,  0.29650361]])"
            ]
          },
          "metadata": {},
          "execution_count": 199
        }
      ]
    },
    {
      "cell_type": "markdown",
      "source": [
        "####Plotting sample selections"
      ],
      "metadata": {
        "id": "vmEonh9VKF69"
      }
    },
    {
      "cell_type": "markdown",
      "source": [
        "#####DPP Samples Plot"
      ],
      "metadata": {
        "id": "IQSeNxtdKTgY"
      }
    },
    {
      "cell_type": "code",
      "source": [
        "# Get some new DPP samples\n",
        "\n",
        "dpp_samples = dpp.sample_k(num_parents)\n",
        "X_DPP = X_transform[dpp_samples]\n",
        "\n",
        "# Highlight the selected individuals in the MDS 2-dim embedding space\n",
        "\n",
        "fig, ax = pyplot.subplots()\n",
        "ax.plot(X_transform[:,0], X_transform[:,1], 'o', label='')\n",
        "ax.plot(X_DPP[:,0], X_DPP[:,1], 'ro', label='Selected')\n",
        "ax.set_title(f'DPP-based Decision Maker Sampling: k={num_parents}')\n",
        "legend = ax.legend(loc='upper right', shadow=True, fontsize='medium')"
      ],
      "metadata": {
        "id": "LMwx9zGxZRmx",
        "colab": {
          "base_uri": "https://localhost:8080/",
          "height": 281
        },
        "outputId": "620d6324-e214-4468-ce98-53fd7214f844"
      },
      "execution_count": 200,
      "outputs": [
        {
          "output_type": "display_data",
          "data": {
            "text/plain": [
              "<Figure size 432x288 with 1 Axes>"
            ],
            "image/png": "[encoded data removed]"
          },
          "metadata": {
            "needs_background": "light"
          }
        }
      ]
    },
    {
      "cell_type": "markdown",
      "source": [
        "#####DPP vs Random Plot\n",
        "Compare DPP samples against randomly generated solution samples to evaluate DPP relevance."
      ],
      "metadata": {
        "id": "7hQLqRz6IwwK"
      }
    },
    {
      "cell_type": "code",
      "source": [
        "# Get some new DPP samples\n",
        "\n",
        "dpp_samples = dpp.sample_k(num_parents)\n",
        "X_DPP = X_transform[dpp_samples]\n",
        "\n",
        "# Generate samples with randomly generated indices\n",
        "\n",
        "random_samples = numpy.random.choice(range(population_size), num_parents, replace=False)\n",
        "X_random = X_transform[random_samples]\n",
        "\n",
        "# Highlight the selected individuals in the MDS 2-dim embedding space\n",
        "\n",
        "fig, ax = pyplot.subplots()\n",
        "ax.plot(X_transform[:,0], X_transform[:,1], 'o', label='')\n",
        "ax.plot(X_DPP[:,0], X_DPP[:,1], 'ro', label='DPP Selected')\n",
        "ax.plot(X_random[:,0], X_random[:,1], 'yo', label='Random Selected')\n",
        "ax.set_title(f'DPP vs Random Sampling: k={num_parents}')\n",
        "legend = ax.legend(loc='upper right', shadow=True, fontsize='medium')"
      ],
      "metadata": {
        "id": "OsEUU6WPDCIy",
        "colab": {
          "base_uri": "https://localhost:8080/",
          "height": 281
        },
        "outputId": "4ef3e09a-37ee-43b0-b44f-3a2f200ffce8"
      },
      "execution_count": 201,
      "outputs": [
        {
          "output_type": "display_data",
          "data": {
            "text/plain": [
              "<Figure size 432x288 with 1 Axes>"
            ],
            "image/png": "[encoded data removed]"
          },
          "metadata": {
            "needs_background": "light"
          }
        }
      ]
    }
  ]
}