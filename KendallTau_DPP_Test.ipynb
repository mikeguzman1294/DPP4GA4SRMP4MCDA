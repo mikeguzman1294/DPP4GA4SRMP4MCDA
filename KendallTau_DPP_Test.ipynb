{
  "nbformat": 4,
  "nbformat_minor": 0,
  "metadata": {
    "colab": {
      "provenance": [],
      "collapsed_sections": [
        "rVJj05k5EI4Z",
        "Fb6dnC9ms300",
        "LAAVKJPMyJvr",
        "53gRZcDbyZba",
        "jaP5ew9xt8I_"
      ],
      "include_colab_link": true
    },
    "kernelspec": {
      "name": "python3",
      "display_name": "Python 3"
    },
    "language_info": {
      "name": "python"
    }
  },
  "cells": [
    {
      "cell_type": "markdown",
      "metadata": {
        "id": "view-in-github",
        "colab_type": "text"
      },
      "source": [
        "<a href=\"https://colab.research.google.com/github/mikeguzman1294/DPP4GA4SRMP4MCDA/blob/kendall-tau/KendallTau_DPP_Test.ipynb\" target=\"_parent\"><img src=\"https://colab.research.google.com/assets/colab-badge.svg\" alt=\"Open In Colab\"/></a>"
      ]
    },
    {
      "cell_type": "markdown",
      "source": [
        "#Kendall Tau + DPP Sampling Experimentation"
      ],
      "metadata": {
        "id": "RZWavWqHCb20"
      }
    },
    {
      "cell_type": "markdown",
      "source": [
        "##Import Libraries"
      ],
      "metadata": {
        "id": "JQ8ne7I2CCkh"
      }
    },
    {
      "cell_type": "markdown",
      "source": [
        "Libraries already used in main script v1.0 (leanSRMP.py)"
      ],
      "metadata": {
        "id": "2GpSy5LF_j11"
      }
    },
    {
      "cell_type": "code",
      "source": [
        "# Imports taken directly from professors' main script\n",
        "\n",
        "import numpy\n",
        "import scipy.sparse as sparse\n",
        "import matplotlib.pyplot as pyplot\n",
        "import argparse\n",
        "import json\n",
        "import ast\n",
        "import sys\n",
        "import os\n",
        "import cProfile\n",
        "from random import randint"
      ],
      "metadata": {
        "id": "gjQ11clJAbkb"
      },
      "execution_count": 60,
      "outputs": []
    },
    {
      "cell_type": "markdown",
      "source": [
        "Libraries required for Kendall Tau + DPP experimentation"
      ],
      "metadata": {
        "id": "d9puFo1FC89z"
      }
    },
    {
      "cell_type": "code",
      "source": [
        "# Required libraries for Kendall Tau alternative\n",
        "\n",
        "import functools # For creaing a user-defined comparison operator\n",
        "import time # For assessing performance\n",
        "from scipy import stats # For Kendall Tau\n",
        "from sklearn.manifold import MDS # For MDS to visualize proximities\n",
        "import subprocess # For importing missing libraries real-time"
      ],
      "metadata": {
        "id": "zSHDpvJECp-m"
      },
      "execution_count": 61,
      "outputs": []
    },
    {
      "cell_type": "markdown",
      "source": [
        "Install/import pydpp by any means"
      ],
      "metadata": {
        "id": "wkgplVvxCUJY"
      }
    },
    {
      "cell_type": "code",
      "source": [
        "try:\n",
        "  from pydpp.dpp import DPP # Implements DPP\n",
        "except:\n",
        "  try:\n",
        "    subprocess.check_call([sys.executable, '-m', 'pip', 'install', 'pydpp'])\n",
        "    from pydpp.dpp import DPP\n",
        "  except:\n",
        "    subprocess.check_call(['git' ,'clone', 'https://github.com/satwik77/pyDPP.git'])\n",
        "    subprocess.check_call(['%cd', 'pyDPP'])\n",
        "    from pydpp.dpp import DPP"
      ],
      "metadata": {
        "id": "psclUGuVCP7n"
      },
      "execution_count": 62,
      "outputs": []
    },
    {
      "cell_type": "markdown",
      "source": [
        "##Function Definitions"
      ],
      "metadata": {
        "id": "X5ZKjDFwDGbE"
      }
    },
    {
      "cell_type": "markdown",
      "source": [
        "###Main Script Functions\n",
        "Required functions directly extracted from main script v1.0."
      ],
      "metadata": {
        "id": "rVJj05k5EI4Z"
      }
    },
    {
      "cell_type": "markdown",
      "source": [
        "Functions to create a random decision maker"
      ],
      "metadata": {
        "id": "pgFDW2ML_e9r"
      }
    },
    {
      "cell_type": "code",
      "execution_count": 63,
      "metadata": {
        "id": "svx4uwlEAINt"
      },
      "outputs": [],
      "source": [
        "def create_blank_decision_maker () :\n",
        "\n",
        "    ###########################################################################################################\n",
        "    \"\"\"\n",
        "        Creates a blank decision maker.\n",
        "        --\n",
        "        In:\n",
        "            * None.\n",
        "        Out:\n",
        "            * decision_maker: Created decision maker, formatted as a dictionary, with only ID set.\n",
        "    \"\"\"\n",
        "    ###########################################################################################################\n",
        "\n",
        "    # We add a unique id to the decision maker\n",
        "    global decision_maker_ids_counter\n",
        "    if \"decision_maker_ids_counter\" not in globals() :\n",
        "        decision_maker_ids_counter = 0\n",
        "    else :\n",
        "        decision_maker_ids_counter += 1\n",
        "\n",
        "    # Let's create the object\n",
        "    decision_maker = {\"weights\": None,\n",
        "                      \"profiles\": None,\n",
        "                      \"order\": None,\n",
        "                      \"id\": decision_maker_ids_counter}\n",
        "    \n",
        "    # Done\n",
        "    return decision_maker"
      ]
    },
    {
      "cell_type": "code",
      "source": [
        "def correct_decision_maker (decision_maker) :\n",
        "\n",
        "    ###########################################################################################################\n",
        "    \"\"\"\n",
        "        Corrects a decision maker.\n",
        "        --\n",
        "        In:\n",
        "            * decision_maker: Decision maker to correct.\n",
        "        Out:\n",
        "            * None.\n",
        "    \"\"\"\n",
        "    ###########################################################################################################\n",
        "\n",
        "    # Profiles in [0, 1] and sorted\n",
        "    decision_maker[\"profiles\"][decision_maker[\"profiles\"] < 0.0] = 0.0\n",
        "    decision_maker[\"profiles\"][decision_maker[\"profiles\"] > 1.0] = 1.0\n",
        "    decision_maker[\"profiles\"] = -numpy.sort(-decision_maker[\"profiles\"], axis=0)\n",
        "    \n",
        "    # Weights in ]0, 1] and with 1-sum\n",
        "    nb_criteria = decision_maker[\"profiles\"].shape[1]\n",
        "    decision_maker[\"weights\"][decision_maker[\"weights\"] < 0.0] = 1.0 / nb_criteria\n",
        "    decision_maker[\"weights\"][decision_maker[\"weights\"] > 1.0] = 1.0\n",
        "    decision_maker[\"weights\"] /= numpy.sum(decision_maker[\"weights\"])"
      ],
      "metadata": {
        "id": "l-O1S_Fa_dSa"
      },
      "execution_count": 64,
      "outputs": []
    },
    {
      "cell_type": "code",
      "source": [
        "def create_random_decision_maker (nb_criteria, nb_profiles) :\n",
        "\n",
        "    ###########################################################################################################\n",
        "    \"\"\"\n",
        "        Creates a random decision maker.\n",
        "        --\n",
        "        In:\n",
        "            * nb_criteria: Number of criteria.\n",
        "            * nb_profiles: Number of profiles to generate.\n",
        "        Out:\n",
        "            * decision_maker: Randomly created decision maker, formatted as a dictionary.\n",
        "    \"\"\"\n",
        "    ###########################################################################################################\n",
        "\n",
        "    # Random weights and profiles\n",
        "    decision_maker = create_blank_decision_maker()\n",
        "    decision_maker[\"weights\"] = numpy.random.rand(nb_criteria)\n",
        "    decision_maker[\"profiles\"] = numpy.random.uniform(0.0, 1.0, (nb_profiles, nb_criteria))\n",
        "    correct_decision_maker(decision_maker)\n",
        "    \n",
        "    # We choose an order for the profiles\n",
        "    order = numpy.array(range(nb_profiles))\n",
        "    numpy.random.shuffle(order)\n",
        "    decision_maker[\"order\"] = order\n",
        "\n",
        "    # Done\n",
        "    return decision_maker"
      ],
      "metadata": {
        "id": "u56I0IHmAet8"
      },
      "execution_count": 65,
      "outputs": []
    },
    {
      "cell_type": "markdown",
      "source": [
        "Functions for plotting a decision maker"
      ],
      "metadata": {
        "id": "EN2UH-51_p9T"
      }
    },
    {
      "cell_type": "code",
      "source": [
        "def create_directory_for (file_name) :\n",
        "\n",
        "    ###########################################################################################################\n",
        "    \"\"\"\n",
        "        Creates the directory for the given file name if it does not exist.\n",
        "        --\n",
        "        In:\n",
        "            * file_name: Directory to create, or file for which we want to create a directory.\n",
        "        Out:\n",
        "            * None.\n",
        "    \"\"\"\n",
        "    ###########################################################################################################\n",
        "\n",
        "    # Creates the corresponding directory\n",
        "    dir_name = os.path.dirname(file_name)\n",
        "    os.makedirs(dir_name, exist_ok=True)"
      ],
      "metadata": {
        "id": "kLGWO0dhlJHz"
      },
      "execution_count": 66,
      "outputs": []
    },
    {
      "cell_type": "code",
      "source": [
        "def plot_decision_maker (decision_maker, alternatives=[], title=\"\", file_name=None) :\n",
        "\n",
        "    ###########################################################################################################\n",
        "    \"\"\"\n",
        "        Plots a decision maker.\n",
        "        --\n",
        "        In:\n",
        "            * decision_maker: Decision maker to plot.\n",
        "            * alternatives: List of alternatives to plot with the decision maker.\n",
        "            * title: Complementary information to plot in the title.\n",
        "            * file_name: Where to save the results.\n",
        "        Out:\n",
        "            * None.\n",
        "    \"\"\"\n",
        "    ###########################################################################################################\n",
        "\n",
        "    # Vertical bars\n",
        "    figure = pyplot.figure(figsize=(20, 10))\n",
        "    nb_criteria = decision_maker[\"profiles\"].shape[1]\n",
        "    for i in range(nb_criteria) :\n",
        "        pyplot.plot([i, i], [0, 1], \"k\")\n",
        "\n",
        "    # Profiles\n",
        "    nb_profiles = decision_maker[\"profiles\"].shape[0]\n",
        "    for i in range(nb_profiles) :\n",
        "        plotted = pyplot.plot(range(nb_criteria), decision_maker[\"profiles\"][i], \":*\")\n",
        "        pyplot.text(-0.02 * nb_criteria, decision_maker[\"profiles\"][i][0], \"p\" + str(i), color=plotted[-1].get_color())\n",
        "        pyplot.text(nb_criteria - 1 + 0.01 * nb_criteria, decision_maker[\"profiles\"][i][-1], \"p\" + str(i), color=plotted[-1].get_color())\n",
        "    \n",
        "    # Alternatives\n",
        "    for alternative in alternatives :\n",
        "        plotted = pyplot.plot(range(nb_criteria), alternative[\"profile\"], \"-*\", label=alternative[\"id\"])\n",
        "        pyplot.text(-0.02 * nb_criteria, alternative[\"profile\"][0], \"a\" + str(alternative[\"id\"]), color=plotted[-1].get_color())\n",
        "        pyplot.text(nb_criteria - 1 + 0.01 * nb_criteria, alternative[\"profile\"][-1], \"a\" + str(alternative[\"id\"]), color=plotted[-1].get_color())\n",
        "    \n",
        "    # Plot decorations\n",
        "    pyplot.xticks(range(nb_criteria), [\"w\" + str(i) + \" =\\n\" + str(decision_maker[\"weights\"][i]) for i in range(nb_criteria)], rotation=45)\n",
        "    pyplot.yticks([0, 1])\n",
        "    figure.gca().set_frame_on(False)\n",
        "    pyplot.tight_layout()\n",
        "    pyplot.title(\"dm\" + str(decision_maker[\"id\"]) + \"\\n\" + \" -> \".join(\"p\" + str(o) for o in decision_maker[\"order\"]) + (\"\\n\" + title if title != \"\" else \"\"))\n",
        "    pyplot.show()\n",
        "    \n",
        "    # Save\n",
        "    if file_name is not None :\n",
        "        create_directory_for(file_name)\n",
        "        figure.savefig(file_name, bbox_inches=\"tight\")"
      ],
      "metadata": {
        "id": "GNpCtqmboE_5"
      },
      "execution_count": 67,
      "outputs": []
    },
    {
      "cell_type": "markdown",
      "source": [
        "Function to generate a population"
      ],
      "metadata": {
        "id": "0SZ8UMSl_ubL"
      }
    },
    {
      "cell_type": "code",
      "source": [
        "def generate_initial_population (population_size, nb_profiles, nb_criteria) :\n",
        "\n",
        "    ###########################################################################################################\n",
        "    \"\"\"\n",
        "        Generates a population of initial solution.\n",
        "        --\n",
        "        In:\n",
        "            * population_size: Number of random solutions to produce.\n",
        "            * nb_profiles: Number of profiles to give to random solutions.\n",
        "            * expected_results: Provided comparisons, along with their preference relation.\n",
        "        Out:\n",
        "            * population: List of created decision makers, along with their fitnesses.\n",
        "    \"\"\"\n",
        "    ###########################################################################################################\n",
        "\n",
        "    # We generate random solutions independently\n",
        "    #nb_criteria = len(expected_results[0][0][\"profile\"])\n",
        "    population = [create_random_decision_maker(nb_criteria, nb_profiles) for i in range(population_size)]\n",
        "    \n",
        "    # We sort them in decreasing fitness\n",
        "    #population = [(compute_fitness(solution, expected_results), solution) for solution in population]\n",
        "    population = [(numpy.random.uniform(0.0, 1.0), solution) for solution in population]\n",
        "    population = sorted(population, key=lambda obj : -obj[0])\n",
        "    \n",
        "    # Done\n",
        "    return population"
      ],
      "metadata": {
        "id": "YxRN55pzpTO1"
      },
      "execution_count": 68,
      "outputs": []
    },
    {
      "cell_type": "markdown",
      "source": [
        "Function to create a random alternative"
      ],
      "metadata": {
        "id": "7oUvaVCPGEX0"
      }
    },
    {
      "cell_type": "code",
      "source": [
        "def create_random_alternative (nb_criteria) :\n",
        "\n",
        "    ###########################################################################################################\n",
        "    \"\"\"\n",
        "        Creates a random alternative.\n",
        "        --\n",
        "        In:\n",
        "            * nb_criteria: Number of criteria.\n",
        "        Out:\n",
        "            * alternative: Created alternative, formatted as a dictionary.\n",
        "    \"\"\"\n",
        "    ###########################################################################################################\n",
        "\n",
        "    # An alternative is a profile\n",
        "    profile = numpy.random.uniform(0.0, 1.0, nb_criteria)\n",
        "\n",
        "    # We add a unique id to the alternative\n",
        "    global alternative_ids_counter\n",
        "    if \"alternative_ids_counter\" not in globals() :\n",
        "        alternative_ids_counter = 0\n",
        "    else :\n",
        "        alternative_ids_counter += 1\n",
        "\n",
        "    # Let's create the alternative\n",
        "    alternative = {\"profile\": profile,\n",
        "                   \"id\": alternative_ids_counter}\n",
        "\n",
        "    # Done\n",
        "    return alternative"
      ],
      "metadata": {
        "id": "Vt9DjcKEcDbn"
      },
      "execution_count": 69,
      "outputs": []
    },
    {
      "cell_type": "markdown",
      "source": [
        "Functions used to compute preferences between alternatives for a given decision maker"
      ],
      "metadata": {
        "id": "6SSRlC-6G89M"
      }
    },
    {
      "cell_type": "code",
      "source": [
        "def compute_concordance (decision_maker, discriminating_profile, alternative) :\n",
        "\n",
        "    ###########################################################################################################\n",
        "    \"\"\"\n",
        "        Returns the concordance of an alternative with respect to a reference profile.\n",
        "        --\n",
        "        In:\n",
        "            * decision_maker: Reference decision maker used to compute concordance of the alternative.\n",
        "            * discriminating_profile: Number of the profile to use in the decision maker's profiles.\n",
        "            * alternative: Alternative for which we want to compute concordance.\n",
        "        Out:\n",
        "            * result: Concordance for the alternative.\n",
        "    \"\"\"\n",
        "    ###########################################################################################################\n",
        "\n",
        "    # Sum of weights for all criteria above discriminating profile\n",
        "    result = numpy.dot(alternative[\"profile\"] >= decision_maker[\"profiles\"][discriminating_profile], decision_maker[\"weights\"].transpose())\n",
        "    \n",
        "    # Done\n",
        "    return result"
      ],
      "metadata": {
        "id": "XDkffPYQb1Sv"
      },
      "execution_count": 70,
      "outputs": []
    },
    {
      "cell_type": "code",
      "source": [
        "def check_preference (decision_maker, alternative_1, alternative_2) :\n",
        "\n",
        "    ###########################################################################################################\n",
        "    \"\"\"\n",
        "        Check which is preferred between two alternatives according to given decision maker.\n",
        "        --\n",
        "        In:\n",
        "            * decision_maker: Reference decision maker used to compare alternatives.\n",
        "            * alternative_1: First alternative to compare.\n",
        "            * alternative_2: Second alternative to compare.\n",
        "        Out:\n",
        "            * preferred: Alternative in {alternative_1, alternative_2} which is preferred, or None if there is no preference.\n",
        "            * discriminating_profile: Profile used in the decision maker to determine preference, or None if there is no preference.\n",
        "    \"\"\"\n",
        "    ###########################################################################################################\n",
        "\n",
        "    # Default value if no alternative is preferred to the other\n",
        "    preferred, discriminating_profile = None, None\n",
        "    \n",
        "    # We check preferred profiles in the given order\n",
        "    for i in decision_maker[\"order\"] :\n",
        "        alternative_1_concordance = compute_concordance(decision_maker, i, alternative_1)\n",
        "        alternative_2_concordance = compute_concordance(decision_maker, i, alternative_2)\n",
        "        if alternative_1_concordance > alternative_2_concordance :\n",
        "            return alternative_1, i\n",
        "        elif alternative_1_concordance < alternative_2_concordance :\n",
        "            return alternative_2, i\n",
        "    \n",
        "    # Done\n",
        "    return preferred, discriminating_profile"
      ],
      "metadata": {
        "id": "xS9CYbgzw3ch"
      },
      "execution_count": 71,
      "outputs": []
    },
    {
      "cell_type": "code",
      "source": [
        "def compute_all_preferences (decision_maker, alternatives) :\n",
        "\n",
        "    ###########################################################################################################\n",
        "    \"\"\"\n",
        "        Checks all preference relations among alternatives according to given decision maker.\n",
        "        --\n",
        "        In:\n",
        "            * decision_maker: Reference decision maker used to compare alternatives.\n",
        "            * alternatives: List of alternatives to compare.\n",
        "        Out:\n",
        "            * discriminating_profiles: Matrix (sorted in increasing IDs) of profiles used in the decision maker to determine dominance, with -1 entries if there is no dominance.\n",
        "            * preferences: Matrix (sorted in increasing IDs) of dominances, where result_dominances[i][j] == 1 if alternative i dominates alternative j, -1 if there is no dominance, and 0 otherwise.\n",
        "    \"\"\"\n",
        "    ###########################################################################################################\n",
        "    \n",
        "    # Alternatives are sorted in increasing ID for the matrix\n",
        "    sorted_alternatives = sorted(alternatives, key=lambda obj : obj[\"id\"])\n",
        "    nb_alternatives = len(sorted_alternatives)\n",
        "    \n",
        "    # We return a matrix indicating which profile is used for determining preference, and another indicating which alternative is preferred\n",
        "    discriminating_profiles = numpy.zeros((nb_alternatives, nb_alternatives)) - 1\n",
        "    preferences = numpy.zeros((nb_alternatives, nb_alternatives)) - 1\n",
        "    \n",
        "    # We check all pairs\n",
        "    for alternative_1 in range(nb_alternatives) :\n",
        "        for alternative_2 in range(alternative_1 + 1, nb_alternatives) :\n",
        "            preferred, discriminating_profile = check_preference(decision_maker, sorted_alternatives[alternative_1], sorted_alternatives[alternative_2])\n",
        "            if preferred is not None :\n",
        "                discriminating_profiles[alternative_1, alternative_2] = discriminating_profile\n",
        "                discriminating_profiles[alternative_2, alternative_1] = discriminating_profiles[alternative_1, alternative_2]\n",
        "                preferences[alternative_1, alternative_2] = int(preferred[\"id\"] == alternatives[alternative_1][\"id\"])\n",
        "                preferences[alternative_2, alternative_1] = 1 - preferences[alternative_1, alternative_2]\n",
        "    \n",
        "    # Done\n",
        "    return discriminating_profiles, preferences"
      ],
      "metadata": {
        "id": "Gyj6gHEjxDGU"
      },
      "execution_count": 72,
      "outputs": []
    },
    {
      "cell_type": "markdown",
      "source": [
        "###DPP + Kendall Tau Functions\n",
        "Functions defined to implement DPP + Kendall Tau sampling in the genetic algorithm."
      ],
      "metadata": {
        "id": "1HvQVVf7HG31"
      }
    },
    {
      "cell_type": "markdown",
      "source": [
        "Ranks all alternatives according for a given decision maker."
      ],
      "metadata": {
        "id": "dJovHb__x0Z7"
      }
    },
    {
      "cell_type": "code",
      "source": [
        "def rank_decision_maker_alternatives (decision_maker, alternatives) :\n",
        "\n",
        "    ###########################################################################################################\n",
        "    \"\"\"\n",
        "        Ranks all alternatives according to given decision maker.\n",
        "        --\n",
        "        In:\n",
        "            * decision_maker: Reference decision maker used to rank alternatives.\n",
        "            * alternatives: List of alternatives to rank.\n",
        "        Out:\n",
        "            * ranking_vector: Vector containing the alternatives ranking for a given position maker where the first element is the best ranked alternative.\n",
        "    \"\"\"\n",
        "    ###########################################################################################################\n",
        "\n",
        "    # Inner user-defined comparison operator\n",
        "    def compare(alternative_1, alternative_2):\n",
        "\n",
        "      # No preference among alternatives\n",
        "      if ( check_preference(decision_maker, alternative_1, alternative_2)[0] is None ):\n",
        "        return 0\n",
        "      # Alternative 1 > alternative 2\n",
        "      elif ( alternative_1['id'] == check_preference(decision_maker, alternative_1, alternative_2)[0]['id'] ):\n",
        "        return 1\n",
        "      # Alternative 2 > alternative 1\n",
        "      else:\n",
        "        return -1\n",
        "\n",
        "    # Sort (O(nlogn)) with user-defined comparison operator\n",
        "    ranked_alternatives = sorted(alternatives, key=functools.cmp_to_key(compare))\n",
        "    \n",
        "    # Extract vector with only ranked alternatives\n",
        "    ranking_vector = [ alternative['id'] for alternative in ranked_alternatives ]\n",
        "\n",
        "    #Done\n",
        "    return ranking_vector"
      ],
      "metadata": {
        "id": "DvjdQb3RCH9m"
      },
      "execution_count": 73,
      "outputs": []
    },
    {
      "cell_type": "markdown",
      "source": [
        "Computes the ranking of all the alternatives for every solution in the population."
      ],
      "metadata": {
        "id": "rbv-xRAyx59H"
      }
    },
    {
      "cell_type": "code",
      "source": [
        "def compute_population_rankings (population, alternatives) :\n",
        "\n",
        "    ###########################################################################################################\n",
        "    \"\"\"\n",
        "        Computes the ranking of all the alternatives for every solution in the population.\n",
        "        --\n",
        "        In:\n",
        "            * population: Population of solutions of a given generation along with their fitnesses.\n",
        "            * alternatives: List of alternatives to rank.\n",
        "        Out:\n",
        "            * population_rankings: List of ranked alternatives vectors for all solutions.\n",
        "    \"\"\"\n",
        "    ###########################################################################################################\n",
        "    \n",
        "    # Create empty list of rankings\n",
        "    population_rankings = []\n",
        "\n",
        "    # Append the ranking vector of each decision maker in population\n",
        "    for solution in population:    \n",
        "      population_rankings.append( rank_decision_maker_alternatives(solution[1], alternatives) )\n",
        "\n",
        "    # Done\n",
        "    return population_rankings"
      ],
      "metadata": {
        "id": "UYAPn3zkIkUQ"
      },
      "execution_count": 74,
      "outputs": []
    },
    {
      "cell_type": "markdown",
      "source": [
        "Constructs a similarity matrix for the population where the similarity metric is Kendall Tau correspondance between rankings."
      ],
      "metadata": {
        "id": "mxIj0PI_x8tJ"
      }
    },
    {
      "cell_type": "code",
      "source": [
        "def compute_similarity_matrix (rankings) :\n",
        "\n",
        "    ###########################################################################################################\n",
        "    \"\"\"\n",
        "        Constructs a similarity matrix for the population where the similarity metric is Kendall Tau correspondance between rankings.\n",
        "        --\n",
        "        In:\n",
        "            * rankings: List of ranked alternatives vectors for all solutions.\n",
        "        Out:\n",
        "            * similarity_matrix: Matrix containing the pairwise Kendall Tau correspondance of all solutions' rankings.\n",
        "    \"\"\"\n",
        "    ###########################################################################################################\n",
        "\n",
        "    # Compute similarity matrix of all decision makers Kendall Tau's pairwise evaluation\n",
        "    similarity_matrix = numpy.array( [ [ ( (stats.kendalltau(p1, p2)[0] + 1) / 2  ) for p2 in rankings ] for p1 in rankings ] )\n",
        "\n",
        "    #Done\n",
        "    return similarity_matrix"
      ],
      "metadata": {
        "id": "mgPIrIDyObgd"
      },
      "execution_count": 75,
      "outputs": []
    },
    {
      "cell_type": "markdown",
      "source": [
        "This one is not really a new function but an **update** to a function that previously only implemented a roulette parent selection strategy."
      ],
      "metadata": {
        "id": "GyuH1fKHqOyH"
      }
    },
    {
      "cell_type": "code",
      "source": [
        "def select_solutions (population, alternatives, nb_solutions=None, strategy=None) :\n",
        "\n",
        "    ###########################################################################################################\n",
        "    \"\"\"\n",
        "        Selects solutions to mix from the population.\n",
        "        --\n",
        "        In:\n",
        "            * population: Population of solutions from where to pick solutions, along with their fitnesses.\n",
        "            * alternatives: List of alternatives to compare.\n",
        "            * nb_solutions: Number of solutions to return.\n",
        "            * strategy: Strategy to use to select solutions.\n",
        "        Out:\n",
        "            * selected_solutions: Picked solutions.\n",
        "    \"\"\"\n",
        "    ###########################################################################################################\n",
        "\n",
        "    # Retrieve command line default arguments\n",
        "    #nb_solutions = get_arg_value(\"select_solutions__nb_solutions\", nb_solutions)\n",
        "    #strategy = get_arg_value(\"select_solutions__strategy\", strategy)\n",
        "\n",
        "    # Probabilities are based on fitness\n",
        "    if strategy == \"roulette\" :\n",
        "        probabilities = numpy.array([solution[0] for solution in population], dtype=float)\n",
        "        probabilities /= numpy.sum(probabilities)\n",
        "        selected_indices = numpy.random.choice(range(len(population)), nb_solutions, p=probabilities, replace=False)\n",
        "        selected_solutions = [population[i] for i in selected_indices]\n",
        "\n",
        "    # Use a Kendall Tau based similarity matrix of all decision makers as a DPP kernel\n",
        "    elif strategy == \"kendall-tau\" :\n",
        "        rankings = compute_population_rankings(population, alternatives)\n",
        "        dpp = DPP(rankings)\n",
        "        dpp.compute_kernel(kernel_func=compute_similarity_matrix)\n",
        "        selected_indices = dpp.sample_k(nb_solutions)\n",
        "        selected_solutions = [population[i] for i in selected_indices]\n",
        "\n",
        "    # Weird choice\n",
        "    else :\n",
        "        raise Exception(\"Unimplemented strategy '\" + strategy + \"' for function 'select_solutions'\")\n",
        "    \n",
        "    # Done\n",
        "    return selected_solutions"
      ],
      "metadata": {
        "id": "0E7H2RH5Dm1l"
      },
      "execution_count": 76,
      "outputs": []
    },
    {
      "cell_type": "markdown",
      "source": [
        "## Test Section"
      ],
      "metadata": {
        "id": "rS47Zkn8_4no"
      }
    },
    {
      "cell_type": "markdown",
      "source": [
        "###Global Test Parameters"
      ],
      "metadata": {
        "id": "0DvF_L5Ism2c"
      }
    },
    {
      "cell_type": "code",
      "source": [
        "# Global Hyper Parameters to test DPP + Kendall Tau functions on a decision maker individual/population in the test section\n",
        "\n",
        "num_criteria = 5  # Number of criteria per decision maker\n",
        "num_profiles = 3  # Number of profiles per decision maker\n",
        "num_alternatives = 10  # Number of alternatives to test against individuals/population\n",
        "population_size = 200 # Number of decision makers in the population\n",
        "num_parents = 8 # Number of solutions to select as parents\n",
        "strategy = \"kendall-tau\" # Parent selection strategy"
      ],
      "metadata": {
        "id": "TATn5vro_97c"
      },
      "execution_count": 77,
      "outputs": []
    },
    {
      "cell_type": "markdown",
      "source": [
        "###Understand/Visualize Genotype"
      ],
      "metadata": {
        "id": "Fb6dnC9ms300"
      }
    },
    {
      "cell_type": "code",
      "source": [
        "# GENOTYPE\n",
        "\n",
        "# Code cell to create a single random decision maker\n",
        "\n",
        "decision_maker = create_random_decision_maker(num_criteria, num_profiles)\n",
        "decision_maker"
      ],
      "metadata": {
        "colab": {
          "base_uri": "https://localhost:8080/"
        },
        "id": "JrxfEcZHcRDh",
        "outputId": "b9485896-2089-4c11-e5de-ef29ef20a5ae"
      },
      "execution_count": 78,
      "outputs": [
        {
          "output_type": "execute_result",
          "data": {
            "text/plain": [
              "{'weights': array([0.12709338, 0.11427255, 0.35222368, 0.02954624, 0.37686415]),\n",
              " 'profiles': array([[0.85974135, 0.62023648, 0.95160533, 0.74580793, 0.96290449],\n",
              "        [0.40826303, 0.53634156, 0.87135583, 0.39415908, 0.63327832],\n",
              "        [0.06953575, 0.4552669 , 0.45501736, 0.1027629 , 0.40071342]]),\n",
              " 'order': array([0, 2, 1]),\n",
              " 'id': 201}"
            ]
          },
          "metadata": {},
          "execution_count": 78
        }
      ]
    },
    {
      "cell_type": "code",
      "source": [
        "# PHENOTYPE\n",
        "\n",
        "# Plot a decision maker individual\n",
        "\n",
        "plot_decision_maker(decision_maker)"
      ],
      "metadata": {
        "colab": {
          "base_uri": "https://localhost:8080/",
          "height": 0
        },
        "id": "dnz9SYk9HHpc",
        "outputId": "80618fde-d829-44ca-b133-57c098a0da14"
      },
      "execution_count": 79,
      "outputs": [
        {
          "output_type": "display_data",
          "data": {
            "text/plain": [
              "<Figure size 1440x720 with 1 Axes>"
            ],
            "image/png": "[encoded data removed]"
          },
          "metadata": {
            "needs_background": "light"
          }
        }
      ]
    },
    {
      "cell_type": "markdown",
      "source": [
        "###Understand concordance"
      ],
      "metadata": {
        "id": "LAAVKJPMyJvr"
      }
    },
    {
      "cell_type": "code",
      "source": [
        "# Code cell to create a single random alternative\n",
        "\n",
        "alternative = create_random_alternative(num_criteria)\n",
        "alternative"
      ],
      "metadata": {
        "colab": {
          "base_uri": "https://localhost:8080/"
        },
        "id": "9xaRzdZJAnEW",
        "outputId": "a99c802c-917a-4519-84a5-fdfaad2880b7"
      },
      "execution_count": 80,
      "outputs": [
        {
          "output_type": "execute_result",
          "data": {
            "text/plain": [
              "{'profile': array([0.80159914, 0.58351784, 0.13929797, 0.5694075 , 0.40082987]),\n",
              " 'id': 11}"
            ]
          },
          "metadata": {},
          "execution_count": 80
        }
      ]
    },
    {
      "cell_type": "code",
      "source": [
        "# Choose a random discriminating profile index\n",
        "\n",
        "discriminating_profile = randint(0, (num_profiles -1) )\n",
        "print(f'Discriminating profile index: {discriminating_profile}')\n",
        "print(f'Discriminating profile of decision maker individual: {decision_maker[\"profiles\"][discriminating_profile]}')\n",
        "print(f'Weights of decision maker individual: {decision_maker[\"weights\"]}')\n",
        "\n",
        "# Compute of a random alternative against the decision maker individual given a random discriminating profile\n",
        "\n",
        "concordance = compute_concordance(decision_maker, discriminating_profile, alternative)\n",
        "print(f'Concordance value: {concordance}')"
      ],
      "metadata": {
        "colab": {
          "base_uri": "https://localhost:8080/"
        },
        "id": "sXdHuplJc0To",
        "outputId": "780476ad-215e-4bb3-ba11-6572bdeb2f92"
      },
      "execution_count": 81,
      "outputs": [
        {
          "output_type": "stream",
          "name": "stdout",
          "text": [
            "Discriminating profile index: 2\n",
            "Discriminating profile of decision maker individual: [0.06953575 0.4552669  0.45501736 0.1027629  0.40071342]\n",
            "Weights of decision maker individual: [0.12709338 0.11427255 0.35222368 0.02954624 0.37686415]\n",
            "Concordance value: 0.6477763176080773\n"
          ]
        }
      ]
    },
    {
      "cell_type": "markdown",
      "source": [
        "###Create population/alternatives"
      ],
      "metadata": {
        "id": "53gRZcDbyZba"
      }
    },
    {
      "cell_type": "code",
      "source": [
        "# Create a list of random alternatives\n",
        "\n",
        "alternatives = [create_random_alternative(num_criteria) for i in range(num_alternatives)]\n",
        "alternatives"
      ],
      "metadata": {
        "id": "r3xmX8_NwRFk",
        "colab": {
          "base_uri": "https://localhost:8080/"
        },
        "outputId": "7945b212-a476-4a84-90f9-b306f21835af"
      },
      "execution_count": 82,
      "outputs": [
        {
          "output_type": "execute_result",
          "data": {
            "text/plain": [
              "[{'profile': array([0.28461779, 0.30253096, 0.18203409, 0.37239564, 0.26012876]),\n",
              "  'id': 12},\n",
              " {'profile': array([0.2064901 , 0.73905209, 0.50510408, 0.76587478, 0.44861321]),\n",
              "  'id': 13},\n",
              " {'profile': array([0.4095224 , 0.35450901, 0.29070215, 0.92925885, 0.2562753 ]),\n",
              "  'id': 14},\n",
              " {'profile': array([0.49187976, 0.74551493, 0.48595801, 0.1956974 , 0.97389096]),\n",
              "  'id': 15},\n",
              " {'profile': array([0.6882581 , 0.47599069, 0.24779896, 0.47158022, 0.57247908]),\n",
              "  'id': 16},\n",
              " {'profile': array([0.65143972, 0.98632281, 0.04823596, 0.56616181, 0.32631179]),\n",
              "  'id': 17},\n",
              " {'profile': array([0.24407683, 0.00642151, 0.74238161, 0.13485393, 0.67929754]),\n",
              "  'id': 18},\n",
              " {'profile': array([0.95749994, 0.12478386, 0.33745012, 0.23798923, 0.55600908]),\n",
              "  'id': 19},\n",
              " {'profile': array([0.09768901, 0.14466661, 0.52585352, 0.03661352, 0.68855973]),\n",
              "  'id': 20},\n",
              " {'profile': array([0.43917465, 0.43847955, 0.07541865, 0.98778745, 0.85489531]),\n",
              "  'id': 21}]"
            ]
          },
          "metadata": {},
          "execution_count": 82
        }
      ]
    },
    {
      "cell_type": "code",
      "source": [
        "# Code cell to create a population of decision makers\n",
        "\n",
        "population = generate_initial_population(population_size, num_profiles, num_criteria)\n",
        "population[0:5]"
      ],
      "metadata": {
        "id": "wKqx2FgGvg6S",
        "colab": {
          "base_uri": "https://localhost:8080/"
        },
        "outputId": "35639099-eb9a-4104-ea06-50f6c573b1f4"
      },
      "execution_count": 83,
      "outputs": [
        {
          "output_type": "execute_result",
          "data": {
            "text/plain": [
              "[(0.9994946711825601,\n",
              "  {'weights': array([0.21402895, 0.31583239, 0.003516  , 0.30748841, 0.15913425]),\n",
              "   'profiles': array([[0.71350226, 0.90113675, 0.81389358, 0.77844194, 0.42320044],\n",
              "          [0.59886917, 0.46840119, 0.73750736, 0.25124037, 0.25333471],\n",
              "          [0.28651294, 0.12262564, 0.17058032, 0.15118716, 0.01803303]]),\n",
              "   'order': array([0, 1, 2]),\n",
              "   'id': 358}),\n",
              " (0.9993212497594955,\n",
              "  {'weights': array([0.31142803, 0.11055881, 0.27457034, 0.15959287, 0.14384995]),\n",
              "   'profiles': array([[0.64736808, 0.80763994, 0.93036382, 0.79117881, 0.74795205],\n",
              "          [0.31002209, 0.63220314, 0.72493585, 0.62771425, 0.64725045],\n",
              "          [0.29660626, 0.57842691, 0.22247599, 0.07497207, 0.35423264]]),\n",
              "   'order': array([1, 2, 0]),\n",
              "   'id': 269}),\n",
              " (0.9983397689800737,\n",
              "  {'weights': array([0.04187418, 0.09077501, 0.47654213, 0.22386059, 0.16694809]),\n",
              "   'profiles': array([[0.73931672, 0.75341979, 0.99395442, 0.88037984, 0.77840305],\n",
              "          [0.24750484, 0.69345278, 0.93504667, 0.59014662, 0.71018719],\n",
              "          [0.03757811, 0.11642357, 0.36705874, 0.13566213, 0.34819076]]),\n",
              "   'order': array([0, 1, 2]),\n",
              "   'id': 378}),\n",
              " (0.9841137920877536,\n",
              "  {'weights': array([0.40900592, 0.01596938, 0.49228249, 0.03062675, 0.05211546]),\n",
              "   'profiles': array([[0.87247817, 0.603532  , 0.66912857, 0.31394593, 0.74880627],\n",
              "          [0.61098271, 0.25345679, 0.6269153 , 0.0171301 , 0.33939795],\n",
              "          [0.59856788, 0.09502942, 0.40022472, 0.00265903, 0.15381612]]),\n",
              "   'order': array([0, 2, 1]),\n",
              "   'id': 375}),\n",
              " (0.9705408095969604,\n",
              "  {'weights': array([0.05333924, 0.22874087, 0.37324142, 0.07472927, 0.26994921]),\n",
              "   'profiles': array([[0.71889774, 0.99363299, 0.897796  , 0.48461774, 0.56470159],\n",
              "          [0.2120149 , 0.37168911, 0.88970213, 0.22668421, 0.52517952],\n",
              "          [0.02938702, 0.17839871, 0.2567944 , 0.21853849, 0.31978902]]),\n",
              "   'order': array([2, 1, 0]),\n",
              "   'id': 325})]"
            ]
          },
          "metadata": {},
          "execution_count": 83
        }
      ]
    },
    {
      "cell_type": "markdown",
      "source": [
        "###Select parents function"
      ],
      "metadata": {
        "id": "TJhlkezO62jf"
      }
    },
    {
      "cell_type": "code",
      "source": [
        "# Select solutions as parents from the population and time the selecting process for benchmarking\n",
        "\n",
        "start = time.time()\n",
        "\n",
        "selected_solutions = select_solutions(population, alternatives, num_parents, strategy)\n",
        "\n",
        "end = time.time()\n",
        "\n",
        "print(f'The parent selection process for a population of {num_parents} individuals takes {end - start} seconds.\\n')\n",
        "\n",
        "#selected_solutions"
      ],
      "metadata": {
        "colab": {
          "base_uri": "https://localhost:8080/"
        },
        "id": "71BHWgWoERvM",
        "outputId": "8d8faa76-cab7-4773-dd63-11d7f065a546"
      },
      "execution_count": 84,
      "outputs": [
        {
          "output_type": "stream",
          "name": "stdout",
          "text": [
            "The parent selection process for a population of 8 individuals takes 12.868455648422241 seconds.\n",
            "\n"
          ]
        }
      ]
    },
    {
      "cell_type": "markdown",
      "source": [
        "###Kendall Tau + DPP examination"
      ],
      "metadata": {
        "id": "t_N-Rtmx-S_p"
      }
    },
    {
      "cell_type": "markdown",
      "source": [
        "####Alternatives ranking vectors"
      ],
      "metadata": {
        "id": "-d14cBfJRDQn"
      }
    },
    {
      "cell_type": "code",
      "source": [
        "# Rank all the alternatives for each decision maker in the population and save each vector\n",
        " \n",
        "rankings = compute_population_rankings(population, alternatives)\n",
        "\n",
        "# Print the first 5 rankings\n",
        "\n",
        "rankings[0:5]"
      ],
      "metadata": {
        "id": "PnZzu4vfpAwQ",
        "colab": {
          "base_uri": "https://localhost:8080/"
        },
        "outputId": "04d06722-ae17-414b-9637-048318d48599"
      },
      "execution_count": 85,
      "outputs": [
        {
          "output_type": "execute_result",
          "data": {
            "text/plain": [
              "[[12, 20, 18, 15, 13, 16, 14, 17, 19, 21],\n",
              " [12, 20, 13, 16, 19, 18, 17, 14, 15, 21],\n",
              " [18, 20, 12, 16, 13, 19, 17, 15, 14, 21],\n",
              " [20, 12, 14, 16, 17, 13, 15, 21, 19, 18],\n",
              " [12, 17, 16, 21, 20, 18, 14, 19, 15, 13]]"
            ]
          },
          "metadata": {},
          "execution_count": 85
        }
      ]
    },
    {
      "cell_type": "markdown",
      "source": [
        "####Similarity Matrix"
      ],
      "metadata": {
        "id": "zrng0q50RRTQ"
      }
    },
    {
      "cell_type": "code",
      "source": [
        "# Get the similarity matrix of all the decision makers given their ranked alternatives vectors\n",
        "\n",
        "similarity_matrix = compute_similarity_matrix(rankings)\n",
        "similarity_matrix"
      ],
      "metadata": {
        "id": "8bhr_hyo7_Fq",
        "colab": {
          "base_uri": "https://localhost:8080/"
        },
        "outputId": "b1315b7d-05f5-44be-c7df-242c42dbd51c"
      },
      "execution_count": 86,
      "outputs": [
        {
          "output_type": "execute_result",
          "data": {
            "text/plain": [
              "array([[1.        , 0.62222222, 0.57777778, ..., 0.37777778, 0.2       ,\n",
              "        0.82222222],\n",
              "       [0.62222222, 1.        , 0.73333333, ..., 0.48888889, 0.44444444,\n",
              "        0.62222222],\n",
              "       [0.57777778, 0.73333333, 1.        , ..., 0.26666667, 0.48888889,\n",
              "        0.53333333],\n",
              "       ...,\n",
              "       [0.37777778, 0.48888889, 0.26666667, ..., 1.        , 0.6       ,\n",
              "        0.51111111],\n",
              "       [0.2       , 0.44444444, 0.48888889, ..., 0.6       , 1.        ,\n",
              "        0.28888889],\n",
              "       [0.82222222, 0.62222222, 0.53333333, ..., 0.51111111, 0.28888889,\n",
              "        1.        ]])"
            ]
          },
          "metadata": {},
          "execution_count": 86
        }
      ]
    },
    {
      "cell_type": "markdown",
      "source": [
        "####DPP Sampling"
      ],
      "metadata": {
        "id": "pjiVBGI-m0Uo"
      }
    },
    {
      "cell_type": "code",
      "source": [
        "# Create a DPP sampler instance\n",
        "\n",
        "dpp = DPP(rankings)\n",
        "\n",
        "# Use the Kendall Tau similarity matrix as kernel function\n",
        "\n",
        "dpp.compute_kernel(kernel_func=compute_similarity_matrix)\n",
        "\n",
        "# Verify dpp attribute 'A' is the similarity matrix\n",
        "\n",
        "dpp.A"
      ],
      "metadata": {
        "id": "x35vfSyg7kgl",
        "colab": {
          "base_uri": "https://localhost:8080/"
        },
        "outputId": "59e8a57f-c5f5-4f09-efb1-b43958d6f0f0"
      },
      "execution_count": 87,
      "outputs": [
        {
          "output_type": "execute_result",
          "data": {
            "text/plain": [
              "array([[1.        , 0.62222222, 0.57777778, ..., 0.37777778, 0.2       ,\n",
              "        0.82222222],\n",
              "       [0.62222222, 1.        , 0.73333333, ..., 0.48888889, 0.44444444,\n",
              "        0.62222222],\n",
              "       [0.57777778, 0.73333333, 1.        , ..., 0.26666667, 0.48888889,\n",
              "        0.53333333],\n",
              "       ...,\n",
              "       [0.37777778, 0.48888889, 0.26666667, ..., 1.        , 0.6       ,\n",
              "        0.51111111],\n",
              "       [0.2       , 0.44444444, 0.48888889, ..., 0.6       , 1.        ,\n",
              "        0.28888889],\n",
              "       [0.82222222, 0.62222222, 0.53333333, ..., 0.51111111, 0.28888889,\n",
              "        1.        ]])"
            ]
          },
          "metadata": {},
          "execution_count": 87
        }
      ]
    },
    {
      "cell_type": "code",
      "source": [
        "# Sample for the given parameter of parents to select (get back indices)\n",
        "\n",
        "dpp_samples = dpp.sample_k(num_parents)\n",
        "dpp_samples"
      ],
      "metadata": {
        "id": "wG4DvRddQ1hh",
        "colab": {
          "base_uri": "https://localhost:8080/"
        },
        "outputId": "8030fb56-5201-4e0b-a1f7-22d4e44e15d6"
      },
      "execution_count": 88,
      "outputs": [
        {
          "output_type": "execute_result",
          "data": {
            "text/plain": [
              "array([  7,  31, 135, 152, 165, 167, 176, 194])"
            ]
          },
          "metadata": {},
          "execution_count": 88
        }
      ]
    },
    {
      "cell_type": "markdown",
      "source": [
        "####MDS dimensionality reduction"
      ],
      "metadata": {
        "id": "jaP5ew9xt8I_"
      }
    },
    {
      "cell_type": "code",
      "source": [
        "# MDS requires a distance matrix as an input\n",
        "# Since our similarity matrix has only positive correlations we can turn it easily into a distance matrix\n",
        "\n",
        "distance_matrix = 1- similarity_matrix\n",
        "distance_matrix"
      ],
      "metadata": {
        "id": "u7yMdVxYkP3O",
        "colab": {
          "base_uri": "https://localhost:8080/"
        },
        "outputId": "608f932b-c313-491f-d61e-683672c19e0d"
      },
      "execution_count": 89,
      "outputs": [
        {
          "output_type": "execute_result",
          "data": {
            "text/plain": [
              "array([[0.        , 0.37777778, 0.42222222, ..., 0.62222222, 0.8       ,\n",
              "        0.17777778],\n",
              "       [0.37777778, 0.        , 0.26666667, ..., 0.51111111, 0.55555556,\n",
              "        0.37777778],\n",
              "       [0.42222222, 0.26666667, 0.        , ..., 0.73333333, 0.51111111,\n",
              "        0.46666667],\n",
              "       ...,\n",
              "       [0.62222222, 0.51111111, 0.73333333, ..., 0.        , 0.4       ,\n",
              "        0.48888889],\n",
              "       [0.8       , 0.55555556, 0.51111111, ..., 0.4       , 0.        ,\n",
              "        0.71111111],\n",
              "       [0.17777778, 0.37777778, 0.46666667, ..., 0.48888889, 0.71111111,\n",
              "        0.        ]])"
            ]
          },
          "metadata": {},
          "execution_count": 89
        }
      ]
    },
    {
      "cell_type": "code",
      "source": [
        "# Create a MDS object to receive the precomputed distance matrix\n",
        "\n",
        "mds = MDS(dissimilarity='precomputed', random_state=0)\n",
        "\n",
        "# Get the MDS embeddings\n",
        "\n",
        "X_transform = mds.fit_transform(distance_matrix)\n",
        "X_transform[0:5]"
      ],
      "metadata": {
        "id": "SgPHW1QRXAlL",
        "colab": {
          "base_uri": "https://localhost:8080/"
        },
        "outputId": "5577a18e-eec1-4d97-d60d-30d3bd0c384b"
      },
      "execution_count": 90,
      "outputs": [
        {
          "output_type": "execute_result",
          "data": {
            "text/plain": [
              "array([[-0.17625263, -0.30880332],\n",
              "       [-0.11212912, -0.11667939],\n",
              "       [-0.3353919 ,  0.0287466 ],\n",
              "       [-0.06196363,  0.42211927],\n",
              "       [ 0.36407197, -0.16060083]])"
            ]
          },
          "metadata": {},
          "execution_count": 90
        }
      ]
    },
    {
      "cell_type": "code",
      "source": [
        "# Scatter plot the decision maker distance representation in the MDS 2-dim embedding space\n",
        "\n",
        "pyplot.scatter( X_transform[:,0], X_transform[:,1] )\n",
        "pyplot.title(\"Decision Maker MDS Embedding Space\")"
      ],
      "metadata": {
        "id": "vKa2BRUEXcRN",
        "colab": {
          "base_uri": "https://localhost:8080/",
          "height": 299
        },
        "outputId": "cf9d377e-cba8-47f4-db63-ece86e48afa5"
      },
      "execution_count": 91,
      "outputs": [
        {
          "output_type": "execute_result",
          "data": {
            "text/plain": [
              "Text(0.5, 1.0, 'Decision Maker MDS Embedding Space')"
            ]
          },
          "metadata": {},
          "execution_count": 91
        },
        {
          "output_type": "display_data",
          "data": {
            "text/plain": [
              "<Figure size 432x288 with 1 Axes>"
            ],
            "image/png": "[encoded data removed]"
          },
          "metadata": {
            "needs_background": "light"
          }
        }
      ]
    },
    {
      "cell_type": "code",
      "source": [
        "# Subset with the DPP-sampled indices \n",
        "\n",
        "X_DPP = X_transform[dpp_samples]\n",
        "X_DPP"
      ],
      "metadata": {
        "id": "ceY4vdeOYmu2",
        "colab": {
          "base_uri": "https://localhost:8080/"
        },
        "outputId": "d9e5280d-c95f-450a-a7d5-25a4f9ec78d2"
      },
      "execution_count": 92,
      "outputs": [
        {
          "output_type": "execute_result",
          "data": {
            "text/plain": [
              "array([[-0.39455369,  0.0082227 ],\n",
              "       [-0.38081603,  0.19198042],\n",
              "       [ 0.19987637,  0.08722988],\n",
              "       [-0.17811545,  0.22962976],\n",
              "       [ 0.04575427,  0.42673009],\n",
              "       [ 0.38058933, -0.13218722],\n",
              "       [ 0.41096541,  0.06495783],\n",
              "       [ 0.29139438,  0.08693056]])"
            ]
          },
          "metadata": {},
          "execution_count": 92
        }
      ]
    },
    {
      "cell_type": "markdown",
      "source": [
        "####Plotting sample selections"
      ],
      "metadata": {
        "id": "vmEonh9VKF69"
      }
    },
    {
      "cell_type": "markdown",
      "source": [
        "#####DPP Samples Plot"
      ],
      "metadata": {
        "id": "IQSeNxtdKTgY"
      }
    },
    {
      "cell_type": "code",
      "source": [
        "# Get some new DPP samples\n",
        "\n",
        "dpp_samples = dpp.sample_k(num_parents)\n",
        "X_DPP = X_transform[dpp_samples]\n",
        "\n",
        "# Highlight the selected individuals in the MDS 2-dim embedding space\n",
        "\n",
        "fig, ax = pyplot.subplots()\n",
        "ax.plot(X_transform[:,0], X_transform[:,1], 'o', label='')\n",
        "ax.plot(X_DPP[:,0], X_DPP[:,1], 'ro', label='Selected')\n",
        "ax.set_title(f'DPP-based Decision Maker Sampling: k={num_parents}')\n",
        "legend = ax.legend(loc='upper right', shadow=True, fontsize='medium')"
      ],
      "metadata": {
        "id": "LMwx9zGxZRmx",
        "colab": {
          "base_uri": "https://localhost:8080/",
          "height": 281
        },
        "outputId": "d22a4d64-4438-47aa-a0b6-541f46c31e16"
      },
      "execution_count": 93,
      "outputs": [
        {
          "output_type": "display_data",
          "data": {
            "text/plain": [
              "<Figure size 432x288 with 1 Axes>"
            ],
            "image/png": "[encoded data removed]"
          },
          "metadata": {
            "needs_background": "light"
          }
        }
      ]
    },
    {
      "cell_type": "markdown",
      "source": [
        "#####DPP vs Random Plot\n",
        "Compare DPP samples against randomly generated solution samples to evaluate DPP relevance."
      ],
      "metadata": {
        "id": "7hQLqRz6IwwK"
      }
    },
    {
      "cell_type": "code",
      "source": [
        "# Get some new DPP samples\n",
        "\n",
        "dpp_samples = dpp.sample_k(num_parents)\n",
        "X_DPP = X_transform[dpp_samples]\n",
        "\n",
        "# Generate samples with randomly generated indices\n",
        "\n",
        "random_samples = numpy.random.choice(range(population_size), num_parents, replace=False)\n",
        "X_random = X_transform[random_samples]\n",
        "\n",
        "# Highlight the selected individuals in the MDS 2-dim embedding space\n",
        "\n",
        "fig, ax = pyplot.subplots()\n",
        "ax.plot(X_transform[:,0], X_transform[:,1], 'o', label='')\n",
        "ax.plot(X_DPP[:,0], X_DPP[:,1], 'ro', label='DPP Selected')\n",
        "ax.plot(X_random[:,0], X_random[:,1], 'yo', label='Random Selected')\n",
        "ax.set_title(f'DPP vs Random Sampling: k={num_parents}')\n",
        "legend = ax.legend(loc='upper right', shadow=True, fontsize='medium')"
      ],
      "metadata": {
        "id": "OsEUU6WPDCIy",
        "colab": {
          "base_uri": "https://localhost:8080/",
          "height": 281
        },
        "outputId": "2bd23100-a6a6-41ea-8e39-9272334ed697"
      },
      "execution_count": 94,
      "outputs": [
        {
          "output_type": "display_data",
          "data": {
            "text/plain": [
              "<Figure size 432x288 with 1 Axes>"
            ],
            "image/png": "[encoded data removed]"
          },
          "metadata": {
            "needs_background": "light"
          }
        }
      ]
    }
  ]
}