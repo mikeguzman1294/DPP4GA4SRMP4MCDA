{
 "cells": [
  {
   "attachments": {},
   "cell_type": "markdown",
   "metadata": {},
   "source": [
    "# Synthetize the results\n"
   ]
  },
  {
   "cell_type": "code",
   "execution_count": 22,
   "metadata": {},
   "outputs": [],
   "source": [
    "import csv\n",
    "import json"
   ]
  },
  {
   "cell_type": "code",
   "execution_count": 23,
   "metadata": {},
   "outputs": [],
   "source": [
    "columns = ['Method','Nb of criteria','Nb of profiles','Nb of atlernatives','Nb of comparisons','Precision train','Precision test','loss','Time of excecution']"
   ]
  },
  {
   "cell_type": "code",
   "execution_count": 54,
   "metadata": {},
   "outputs": [],
   "source": [
    "methods = ['dpp','l1','uniform']\n",
    "contents = []\n",
    "for method in methods:\n",
    "    with open('tune_parameters_fixed_multi_after_grid_'+method+'.csv','r') as f:\n",
    "        reader = csv.reader(f,delimiter=';')\n",
    "        for row in reader:\n",
    "            if row[0][:5] == '{\\'--n':\n",
    "                row[0] = row[0].replace('\\'','\\\"')\n",
    "                row[0] = row[0].replace('T','t')\n",
    "                row[0] = row[0].replace('F','f')\n",
    "                row[0] = json.loads(row[0])\n",
    "                contents.append([method,row[0]['--nb_criteria'],row[0]['--nb_profiles'],row[0]['--nb_alternatives'],row[0]['--nb_comparisons'],float(row[1]),round(float(row[2]),3),round(float(row[3]),3),round(float(row[4]),0)])"
   ]
  },
  {
   "cell_type": "code",
   "execution_count": 55,
   "metadata": {},
   "outputs": [],
   "source": [
    "with open('results.csv','w',encoding='UTF8') as f:\n",
    "    writer = csv.writer(f,delimiter=';',lineterminator = '\\n')\n",
    "    writer.writerow(columns)\n",
    "    for i in range(len(contents)):\n",
    "        writer.writerow(contents[i])\n"
   ]
  },
  {
   "cell_type": "code",
   "execution_count": null,
   "metadata": {},
   "outputs": [],
   "source": []
  }
 ],
 "metadata": {
  "kernelspec": {
   "display_name": "base",
   "language": "python",
   "name": "python3"
  },
  "language_info": {
   "codemirror_mode": {
    "name": "ipython",
    "version": 3
   },
   "file_extension": ".py",
   "mimetype": "text/x-python",
   "name": "python",
   "nbconvert_exporter": "python",
   "pygments_lexer": "ipython3",
   "version": "3.9.13"
  },
  "orig_nbformat": 4,
  "vscode": {
   "interpreter": {
    "hash": "2f51a30a04df041680abb45233572118012320a8ffc7d125434bf1d85ca06873"
   }
  }
 },
 "nbformat": 4,
 "nbformat_minor": 2
}
